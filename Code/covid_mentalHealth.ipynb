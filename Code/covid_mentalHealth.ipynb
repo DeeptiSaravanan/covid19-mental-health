{
 "cells": [
  {
   "cell_type": "code",
   "execution_count": 1,
   "id": "d082f746-92a8-4a4f-94fb-723270af52c0",
   "metadata": {},
   "outputs": [],
   "source": [
    "import pandas as pd\n",
    "import matplotlib.pyplot as plt\n",
    "import seaborn as sns\n",
    "import scipy\n",
    "import warnings\n",
    "warnings.simplefilter(\"ignore\")\n",
    "import statsmodels.api as sm\n",
    "from sklearn.model_selection import train_test_split\n",
    "from sklearn.tree import DecisionTreeClassifier, export_graphviz\n",
    "from sklearn.metrics import accuracy_score, classification_report\n",
    "from io import StringIO\n",
    "import pydotplus\n",
    "from IPython.display import Image\n",
    "import scipy.stats as stats"
   ]
  },
  {
   "cell_type": "markdown",
   "id": "431861d4-25db-40cb-99dd-069e6f630695",
   "metadata": {},
   "source": [
    "#### COVID-19 vs Public Mental Health"
   ]
  },
  {
   "cell_type": "code",
   "execution_count": 2,
   "id": "962f6087-0dba-4fc9-b749-e50721d50f2f",
   "metadata": {},
   "outputs": [
    {
     "data": {
      "text/html": [
       "<div>\n",
       "<style scoped>\n",
       "    .dataframe tbody tr th:only-of-type {\n",
       "        vertical-align: middle;\n",
       "    }\n",
       "\n",
       "    .dataframe tbody tr th {\n",
       "        vertical-align: top;\n",
       "    }\n",
       "\n",
       "    .dataframe thead th {\n",
       "        text-align: right;\n",
       "    }\n",
       "</style>\n",
       "<table border=\"1\" class=\"dataframe\">\n",
       "  <thead>\n",
       "    <tr style=\"text-align: right;\">\n",
       "      <th></th>\n",
       "      <th>country</th>\n",
       "      <th>prevalence</th>\n",
       "      <th>cases</th>\n",
       "      <th>pop2022</th>\n",
       "    </tr>\n",
       "  </thead>\n",
       "  <tbody>\n",
       "    <tr>\n",
       "      <th>0</th>\n",
       "      <td>Ukraine</td>\n",
       "      <td>6.3</td>\n",
       "      <td>2800587</td>\n",
       "      <td>43192.122</td>\n",
       "    </tr>\n",
       "    <tr>\n",
       "      <th>1</th>\n",
       "      <td>Estonia</td>\n",
       "      <td>5.9</td>\n",
       "      <td>75667</td>\n",
       "      <td>1321.910</td>\n",
       "    </tr>\n",
       "    <tr>\n",
       "      <th>2</th>\n",
       "      <td>Australia</td>\n",
       "      <td>5.9</td>\n",
       "      <td>1318599</td>\n",
       "      <td>26068.792</td>\n",
       "    </tr>\n",
       "    <tr>\n",
       "      <th>3</th>\n",
       "      <td>United States</td>\n",
       "      <td>5.9</td>\n",
       "      <td>17491047</td>\n",
       "      <td>334805.269</td>\n",
       "    </tr>\n",
       "    <tr>\n",
       "      <th>4</th>\n",
       "      <td>Brazil</td>\n",
       "      <td>5.8</td>\n",
       "      <td>11548577</td>\n",
       "      <td>215353.593</td>\n",
       "    </tr>\n",
       "  </tbody>\n",
       "</table>\n",
       "</div>"
      ],
      "text/plain": [
       "         country  prevalence     cases     pop2022\n",
       "0        Ukraine         6.3   2800587   43192.122\n",
       "1        Estonia         5.9     75667    1321.910\n",
       "2      Australia         5.9   1318599   26068.792\n",
       "3  United States         5.9  17491047  334805.269\n",
       "4         Brazil         5.8  11548577  215353.593"
      ]
     },
     "execution_count": 2,
     "metadata": {},
     "output_type": "execute_result"
    }
   ],
   "source": [
    "#df = pd.DataFrame(pd.read_excel(\"./Data/Mental_health/Test.xlsx\"))\n",
    "depression_during_covid = pd.read_csv(\"./Data/Mental_health/countrywise_depression.csv\")\n",
    "depression_during_covid.head()"
   ]
  },
  {
   "cell_type": "code",
   "execution_count": 3,
   "id": "50f4a650-f2cd-40fd-9044-f2fcb7e18e66",
   "metadata": {},
   "outputs": [
    {
     "data": {
      "text/html": [
       "<div>\n",
       "<style scoped>\n",
       "    .dataframe tbody tr th:only-of-type {\n",
       "        vertical-align: middle;\n",
       "    }\n",
       "\n",
       "    .dataframe tbody tr th {\n",
       "        vertical-align: top;\n",
       "    }\n",
       "\n",
       "    .dataframe thead th {\n",
       "        text-align: right;\n",
       "    }\n",
       "</style>\n",
       "<table border=\"1\" class=\"dataframe\">\n",
       "  <thead>\n",
       "    <tr style=\"text-align: right;\">\n",
       "      <th></th>\n",
       "      <th>prevalence</th>\n",
       "      <th>cases</th>\n",
       "      <th>pop2022</th>\n",
       "    </tr>\n",
       "  </thead>\n",
       "  <tbody>\n",
       "    <tr>\n",
       "      <th>count</th>\n",
       "      <td>179.000000</td>\n",
       "      <td>1.790000e+02</td>\n",
       "      <td>1.790000e+02</td>\n",
       "    </tr>\n",
       "    <tr>\n",
       "      <th>mean</th>\n",
       "      <td>4.440223</td>\n",
       "      <td>1.706975e+06</td>\n",
       "      <td>4.403255e+04</td>\n",
       "    </tr>\n",
       "    <tr>\n",
       "      <th>std</th>\n",
       "      <td>0.681251</td>\n",
       "      <td>6.131891e+06</td>\n",
       "      <td>1.556037e+05</td>\n",
       "    </tr>\n",
       "    <tr>\n",
       "      <th>min</th>\n",
       "      <td>2.900000</td>\n",
       "      <td>3.182000e+03</td>\n",
       "      <td>9.942600e+01</td>\n",
       "    </tr>\n",
       "    <tr>\n",
       "      <th>25%</th>\n",
       "      <td>4.000000</td>\n",
       "      <td>1.137420e+05</td>\n",
       "      <td>2.919170e+03</td>\n",
       "    </tr>\n",
       "    <tr>\n",
       "      <th>50%</th>\n",
       "      <td>4.400000</td>\n",
       "      <td>4.193020e+05</td>\n",
       "      <td>1.014057e+04</td>\n",
       "    </tr>\n",
       "    <tr>\n",
       "      <th>75%</th>\n",
       "      <td>5.000000</td>\n",
       "      <td>1.125315e+06</td>\n",
       "      <td>3.313527e+04</td>\n",
       "    </tr>\n",
       "    <tr>\n",
       "      <th>max</th>\n",
       "      <td>6.300000</td>\n",
       "      <td>5.667597e+07</td>\n",
       "      <td>1.448471e+06</td>\n",
       "    </tr>\n",
       "  </tbody>\n",
       "</table>\n",
       "</div>"
      ],
      "text/plain": [
       "       prevalence         cases       pop2022\n",
       "count  179.000000  1.790000e+02  1.790000e+02\n",
       "mean     4.440223  1.706975e+06  4.403255e+04\n",
       "std      0.681251  6.131891e+06  1.556037e+05\n",
       "min      2.900000  3.182000e+03  9.942600e+01\n",
       "25%      4.000000  1.137420e+05  2.919170e+03\n",
       "50%      4.400000  4.193020e+05  1.014057e+04\n",
       "75%      5.000000  1.125315e+06  3.313527e+04\n",
       "max      6.300000  5.667597e+07  1.448471e+06"
      ]
     },
     "execution_count": 3,
     "metadata": {},
     "output_type": "execute_result"
    }
   ],
   "source": [
    "depression_during_covid.describe()"
   ]
  },
  {
   "cell_type": "code",
   "execution_count": 4,
   "id": "e957836c-6456-4172-b1a7-f876202de9f4",
   "metadata": {},
   "outputs": [
    {
     "name": "stdout",
     "output_type": "stream",
     "text": [
      "<class 'pandas.core.frame.DataFrame'>\n",
      "RangeIndex: 179 entries, 0 to 178\n",
      "Data columns (total 4 columns):\n",
      " #   Column      Non-Null Count  Dtype  \n",
      "---  ------      --------------  -----  \n",
      " 0   country     179 non-null    object \n",
      " 1   prevalence  179 non-null    float64\n",
      " 2   cases       179 non-null    int64  \n",
      " 3   pop2022     179 non-null    float64\n",
      "dtypes: float64(2), int64(1), object(1)\n",
      "memory usage: 5.7+ KB\n"
     ]
    }
   ],
   "source": [
    "depression_during_covid.info()"
   ]
  },
  {
   "cell_type": "code",
   "execution_count": 5,
   "id": "f9010c12-e769-4b1c-acee-e32de6ac7938",
   "metadata": {},
   "outputs": [
    {
     "name": "stdout",
     "output_type": "stream",
     "text": [
      "country       0\n",
      "prevalence    0\n",
      "cases         0\n",
      "pop2022       0\n",
      "dtype: int64\n"
     ]
    }
   ],
   "source": [
    "print(depression_during_covid.isnull().sum())"
   ]
  },
  {
   "cell_type": "code",
   "execution_count": 6,
   "id": "3c380411-c240-4a7b-93ba-8669f89bfdc2",
   "metadata": {},
   "outputs": [
    {
     "data": {
      "text/html": [
       "<div>\n",
       "<style scoped>\n",
       "    .dataframe tbody tr th:only-of-type {\n",
       "        vertical-align: middle;\n",
       "    }\n",
       "\n",
       "    .dataframe tbody tr th {\n",
       "        vertical-align: top;\n",
       "    }\n",
       "\n",
       "    .dataframe thead th {\n",
       "        text-align: right;\n",
       "    }\n",
       "</style>\n",
       "<table border=\"1\" class=\"dataframe\">\n",
       "  <thead>\n",
       "    <tr style=\"text-align: right;\">\n",
       "      <th></th>\n",
       "      <th>Entity</th>\n",
       "      <th>Code</th>\n",
       "      <th>Year</th>\n",
       "      <th>Prevalence - Depressive disorders - Sex: Both - Age: Age-standardized (Percent)</th>\n",
       "    </tr>\n",
       "  </thead>\n",
       "  <tbody>\n",
       "    <tr>\n",
       "      <th>0</th>\n",
       "      <td>Afghanistan</td>\n",
       "      <td>AFG</td>\n",
       "      <td>1990</td>\n",
       "      <td>5.125291</td>\n",
       "    </tr>\n",
       "    <tr>\n",
       "      <th>1</th>\n",
       "      <td>Afghanistan</td>\n",
       "      <td>AFG</td>\n",
       "      <td>1991</td>\n",
       "      <td>5.116306</td>\n",
       "    </tr>\n",
       "    <tr>\n",
       "      <th>2</th>\n",
       "      <td>Afghanistan</td>\n",
       "      <td>AFG</td>\n",
       "      <td>1992</td>\n",
       "      <td>5.106558</td>\n",
       "    </tr>\n",
       "    <tr>\n",
       "      <th>3</th>\n",
       "      <td>Afghanistan</td>\n",
       "      <td>AFG</td>\n",
       "      <td>1993</td>\n",
       "      <td>5.100328</td>\n",
       "    </tr>\n",
       "    <tr>\n",
       "      <th>4</th>\n",
       "      <td>Afghanistan</td>\n",
       "      <td>AFG</td>\n",
       "      <td>1994</td>\n",
       "      <td>5.099424</td>\n",
       "    </tr>\n",
       "  </tbody>\n",
       "</table>\n",
       "</div>"
      ],
      "text/plain": [
       "        Entity Code  Year  \\\n",
       "0  Afghanistan  AFG  1990   \n",
       "1  Afghanistan  AFG  1991   \n",
       "2  Afghanistan  AFG  1992   \n",
       "3  Afghanistan  AFG  1993   \n",
       "4  Afghanistan  AFG  1994   \n",
       "\n",
       "   Prevalence - Depressive disorders - Sex: Both - Age: Age-standardized (Percent)  \n",
       "0                                           5.125291                                \n",
       "1                                           5.116306                                \n",
       "2                                           5.106558                                \n",
       "3                                           5.100328                                \n",
       "4                                           5.099424                                "
      ]
     },
     "execution_count": 6,
     "metadata": {},
     "output_type": "execute_result"
    }
   ],
   "source": [
    "depression_before_covid = pd.read_csv(\"./Data/Mental_health/countrywse_depression_before_covid.csv\")\n",
    "depression_before_covid.head()"
   ]
  },
  {
   "cell_type": "code",
   "execution_count": 7,
   "id": "6bc738b5-6e31-4d32-9797-ddf68ef86cca",
   "metadata": {},
   "outputs": [],
   "source": [
    "depression_before_covid.drop(\"Code\", axis=1, inplace=True)"
   ]
  },
  {
   "cell_type": "code",
   "execution_count": 8,
   "id": "46d1604f-59a8-42bb-80d0-e1bf296a7707",
   "metadata": {},
   "outputs": [
    {
     "data": {
      "text/html": [
       "<div>\n",
       "<style scoped>\n",
       "    .dataframe tbody tr th:only-of-type {\n",
       "        vertical-align: middle;\n",
       "    }\n",
       "\n",
       "    .dataframe tbody tr th {\n",
       "        vertical-align: top;\n",
       "    }\n",
       "\n",
       "    .dataframe thead th {\n",
       "        text-align: right;\n",
       "    }\n",
       "</style>\n",
       "<table border=\"1\" class=\"dataframe\">\n",
       "  <thead>\n",
       "    <tr style=\"text-align: right;\">\n",
       "      <th></th>\n",
       "      <th>Entity</th>\n",
       "      <th>Year</th>\n",
       "      <th>Prevalence - Depressive disorders - Sex: Both - Age: Age-standardized (Percent)</th>\n",
       "    </tr>\n",
       "  </thead>\n",
       "  <tbody>\n",
       "    <tr>\n",
       "      <th>0</th>\n",
       "      <td>Afghanistan</td>\n",
       "      <td>1990</td>\n",
       "      <td>5.125291</td>\n",
       "    </tr>\n",
       "    <tr>\n",
       "      <th>1</th>\n",
       "      <td>Afghanistan</td>\n",
       "      <td>1991</td>\n",
       "      <td>5.116306</td>\n",
       "    </tr>\n",
       "    <tr>\n",
       "      <th>2</th>\n",
       "      <td>Afghanistan</td>\n",
       "      <td>1992</td>\n",
       "      <td>5.106558</td>\n",
       "    </tr>\n",
       "    <tr>\n",
       "      <th>3</th>\n",
       "      <td>Afghanistan</td>\n",
       "      <td>1993</td>\n",
       "      <td>5.100328</td>\n",
       "    </tr>\n",
       "    <tr>\n",
       "      <th>4</th>\n",
       "      <td>Afghanistan</td>\n",
       "      <td>1994</td>\n",
       "      <td>5.099424</td>\n",
       "    </tr>\n",
       "  </tbody>\n",
       "</table>\n",
       "</div>"
      ],
      "text/plain": [
       "        Entity  Year  \\\n",
       "0  Afghanistan  1990   \n",
       "1  Afghanistan  1991   \n",
       "2  Afghanistan  1992   \n",
       "3  Afghanistan  1993   \n",
       "4  Afghanistan  1994   \n",
       "\n",
       "   Prevalence - Depressive disorders - Sex: Both - Age: Age-standardized (Percent)  \n",
       "0                                           5.125291                                \n",
       "1                                           5.116306                                \n",
       "2                                           5.106558                                \n",
       "3                                           5.100328                                \n",
       "4                                           5.099424                                "
      ]
     },
     "execution_count": 8,
     "metadata": {},
     "output_type": "execute_result"
    }
   ],
   "source": [
    "depression_before_covid.head()"
   ]
  },
  {
   "cell_type": "code",
   "execution_count": 9,
   "id": "6ec32ef0-4f86-4c48-a593-a2619defd11d",
   "metadata": {},
   "outputs": [
    {
     "data": {
      "text/html": [
       "<div>\n",
       "<style scoped>\n",
       "    .dataframe tbody tr th:only-of-type {\n",
       "        vertical-align: middle;\n",
       "    }\n",
       "\n",
       "    .dataframe tbody tr th {\n",
       "        vertical-align: top;\n",
       "    }\n",
       "\n",
       "    .dataframe thead th {\n",
       "        text-align: right;\n",
       "    }\n",
       "</style>\n",
       "<table border=\"1\" class=\"dataframe\">\n",
       "  <thead>\n",
       "    <tr style=\"text-align: right;\">\n",
       "      <th></th>\n",
       "      <th>Year</th>\n",
       "      <th>Prevalence - Depressive disorders - Sex: Both - Age: Age-standardized (Percent)</th>\n",
       "    </tr>\n",
       "  </thead>\n",
       "  <tbody>\n",
       "    <tr>\n",
       "      <th>count</th>\n",
       "      <td>8040.00000</td>\n",
       "      <td>8040.000000</td>\n",
       "    </tr>\n",
       "    <tr>\n",
       "      <th>mean</th>\n",
       "      <td>2004.50000</td>\n",
       "      <td>3.958323</td>\n",
       "    </tr>\n",
       "    <tr>\n",
       "      <th>std</th>\n",
       "      <td>8.65598</td>\n",
       "      <td>0.885276</td>\n",
       "    </tr>\n",
       "    <tr>\n",
       "      <th>min</th>\n",
       "      <td>1990.00000</td>\n",
       "      <td>1.640902</td>\n",
       "    </tr>\n",
       "    <tr>\n",
       "      <th>25%</th>\n",
       "      <td>1997.00000</td>\n",
       "      <td>3.283934</td>\n",
       "    </tr>\n",
       "    <tr>\n",
       "      <th>50%</th>\n",
       "      <td>2004.50000</td>\n",
       "      <td>3.927947</td>\n",
       "    </tr>\n",
       "    <tr>\n",
       "      <th>75%</th>\n",
       "      <td>2012.00000</td>\n",
       "      <td>4.539022</td>\n",
       "    </tr>\n",
       "    <tr>\n",
       "      <th>max</th>\n",
       "      <td>2019.00000</td>\n",
       "      <td>7.688213</td>\n",
       "    </tr>\n",
       "  </tbody>\n",
       "</table>\n",
       "</div>"
      ],
      "text/plain": [
       "             Year  \\\n",
       "count  8040.00000   \n",
       "mean   2004.50000   \n",
       "std       8.65598   \n",
       "min    1990.00000   \n",
       "25%    1997.00000   \n",
       "50%    2004.50000   \n",
       "75%    2012.00000   \n",
       "max    2019.00000   \n",
       "\n",
       "       Prevalence - Depressive disorders - Sex: Both - Age: Age-standardized (Percent)  \n",
       "count                                        8040.000000                                \n",
       "mean                                            3.958323                                \n",
       "std                                             0.885276                                \n",
       "min                                             1.640902                                \n",
       "25%                                             3.283934                                \n",
       "50%                                             3.927947                                \n",
       "75%                                             4.539022                                \n",
       "max                                             7.688213                                "
      ]
     },
     "execution_count": 9,
     "metadata": {},
     "output_type": "execute_result"
    }
   ],
   "source": [
    "depression_before_covid.describe()"
   ]
  },
  {
   "cell_type": "code",
   "execution_count": 10,
   "id": "9db81986-c6a4-4f97-a362-449ea718ce05",
   "metadata": {},
   "outputs": [
    {
     "name": "stdout",
     "output_type": "stream",
     "text": [
      "<class 'pandas.core.frame.DataFrame'>\n",
      "RangeIndex: 8040 entries, 0 to 8039\n",
      "Data columns (total 3 columns):\n",
      " #   Column                                                                           Non-Null Count  Dtype  \n",
      "---  ------                                                                           --------------  -----  \n",
      " 0   Entity                                                                           8040 non-null   object \n",
      " 1   Year                                                                             8040 non-null   int64  \n",
      " 2   Prevalence - Depressive disorders - Sex: Both - Age: Age-standardized (Percent)  8040 non-null   float64\n",
      "dtypes: float64(1), int64(1), object(1)\n",
      "memory usage: 188.6+ KB\n"
     ]
    }
   ],
   "source": [
    "depression_before_covid.info()"
   ]
  },
  {
   "cell_type": "code",
   "execution_count": 11,
   "id": "b8e13d51-ed4e-4587-84fc-bbfb3c85ec7d",
   "metadata": {},
   "outputs": [
    {
     "name": "stdout",
     "output_type": "stream",
     "text": [
      "Entity                                                                             0\n",
      "Year                                                                               0\n",
      "Prevalence - Depressive disorders - Sex: Both - Age: Age-standardized (Percent)    0\n",
      "dtype: int64\n"
     ]
    }
   ],
   "source": [
    "print(depression_before_covid.isnull().sum())"
   ]
  },
  {
   "cell_type": "markdown",
   "id": "31605d52-7cf2-4a21-bfa7-0106859b0226",
   "metadata": {},
   "source": [
    "#### Create different dataframes per year before covid"
   ]
  },
  {
   "cell_type": "code",
   "execution_count": 12,
   "id": "030b794d-a43c-4225-9eb1-69545be271e1",
   "metadata": {},
   "outputs": [],
   "source": [
    "depression_before_covid_15 = pd.DataFrame(columns = ['Entity', 'Year', 'Prevalence - Depressive disorders - Sex: Both - Age: Age-standardized (Percent)'])\n",
    "depression_before_covid_16 = pd.DataFrame(columns = ['Entity', 'Year', 'Prevalence - Depressive disorders - Sex: Both - Age: Age-standardized (Percent)'])\n",
    "depression_before_covid_17 = pd.DataFrame(columns = ['Entity', 'Year', 'Prevalence - Depressive disorders - Sex: Both - Age: Age-standardized (Percent)'])\n",
    "depression_before_covid_18 = pd.DataFrame(columns = ['Entity', 'Year', 'Prevalence - Depressive disorders - Sex: Both - Age: Age-standardized (Percent)'])\n",
    "depression_before_covid_19 = pd.DataFrame(columns = ['Entity', 'Year', 'Prevalence - Depressive disorders - Sex: Both - Age: Age-standardized (Percent)'])"
   ]
  },
  {
   "cell_type": "code",
   "execution_count": 13,
   "id": "cfe4d9fa-2d0d-47f8-9400-395c315d1283",
   "metadata": {},
   "outputs": [],
   "source": [
    "for index, row in depression_before_covid.iterrows():\n",
    "    if(row['Year'] == 2015):\n",
    "        depression_before_covid_15.loc[len(depression_before_covid_15.index)] = row\n",
    "    elif(row['Year'] == 2016):\n",
    "        depression_before_covid_16.loc[len(depression_before_covid_16.index)] = row\n",
    "    elif(row['Year'] == 2017):\n",
    "        depression_before_covid_17.loc[len(depression_before_covid_17.index)] = row\n",
    "    elif(row['Year'] == 2018):\n",
    "        depression_before_covid_18.loc[len(depression_before_covid_18.index)] = row\n",
    "    elif(row['Year'] == 2019):\n",
    "        depression_before_covid_19.loc[len(depression_before_covid_19.index)] = row"
   ]
  },
  {
   "cell_type": "code",
   "execution_count": 14,
   "id": "47cee210-f567-4f63-82cf-4d7fe2426367",
   "metadata": {},
   "outputs": [],
   "source": [
    "depression_before_covid_15.drop(\"Year\", axis=1, inplace=True)\n",
    "depression_before_covid_16.drop(\"Year\", axis=1, inplace=True)\n",
    "depression_before_covid_17.drop(\"Year\", axis=1, inplace=True)\n",
    "depression_before_covid_18.drop(\"Year\", axis=1, inplace=True)\n",
    "depression_before_covid_19.drop(\"Year\", axis=1, inplace=True)"
   ]
  },
  {
   "cell_type": "markdown",
   "id": "64c50360-4c17-4673-8c3e-0141165320c7",
   "metadata": {},
   "source": [
    "#### Percent Prevalence of Depression across the world from 2015 to 2020"
   ]
  },
  {
   "cell_type": "code",
   "execution_count": 15,
   "id": "282238a6-8c56-478b-9054-47ea0c399f20",
   "metadata": {},
   "outputs": [],
   "source": [
    "mean_15 = depression_before_covid_15[\"Prevalence - Depressive disorders - Sex: Both - Age: Age-standardized (Percent)\"].mean()\n",
    "mean_16 = depression_before_covid_16[\"Prevalence - Depressive disorders - Sex: Both - Age: Age-standardized (Percent)\"].mean()\n",
    "mean_17 = depression_before_covid_17[\"Prevalence - Depressive disorders - Sex: Both - Age: Age-standardized (Percent)\"].mean()\n",
    "mean_18 = depression_before_covid_18[\"Prevalence - Depressive disorders - Sex: Both - Age: Age-standardized (Percent)\"].mean()\n",
    "mean_19 = depression_before_covid_19[\"Prevalence - Depressive disorders - Sex: Both - Age: Age-standardized (Percent)\"].mean()\n",
    "\n",
    "before_covid = [mean_15, mean_16, mean_17, mean_18, mean_19]\n",
    "\n",
    "during_covid = depression_during_covid[\"prevalence\"].mean()"
   ]
  },
  {
   "cell_type": "code",
   "execution_count": 16,
   "id": "cabd5c69-fea5-475f-8386-e7b9c5014f9e",
   "metadata": {},
   "outputs": [
    {
     "data": {
      "text/plain": [
       "[3.9022929199915803,\n",
       " 3.9015204585242067,\n",
       " 3.901461113356287,\n",
       " 3.9055171325891886,\n",
       " 3.9126968939338647]"
      ]
     },
     "execution_count": 16,
     "metadata": {},
     "output_type": "execute_result"
    }
   ],
   "source": [
    "before_covid"
   ]
  },
  {
   "cell_type": "code",
   "execution_count": 17,
   "id": "d10ceb9b-0f49-4108-b556-18e4fbd07b88",
   "metadata": {},
   "outputs": [
    {
     "data": {
      "image/png": "[encoded data removed]",
      "text/plain": [
       "<Figure size 720x504 with 1 Axes>"
      ]
     },
     "metadata": {
      "needs_background": "light"
     },
     "output_type": "display_data"
    }
   ],
   "source": [
    "fig = plt.figure(figsize=(10,7))\n",
    "ax1 = plt.scatter(x=[2015,2016,2017,2018,2019],y=before_covid)\n",
    "ax2 = plt.scatter(x=[2020],y=during_covid,c='red')\n",
    "\n",
    "plt.xlabel('Year')\n",
    "plt.ylabel('Mean Prevalence Percentage')\n",
    "plt.legend([ax1, ax2],['Pre-COVID','COVID'])\n",
    "plt.xlim([2014,2021])\n",
    "plt.ylim([3.5,4.5])\n",
    "plt.show()\n",
    "\n",
    "fig.savefig('./Figures/MINE/depression_general.png')"
   ]
  },
  {
   "cell_type": "markdown",
   "id": "81f10fdc-84a4-4a52-98bf-835d53f10a3f",
   "metadata": {},
   "source": [
    "#### CONCLUSION: Mean Prevalence Percentage highest during COVID-19."
   ]
  },
  {
   "cell_type": "markdown",
   "id": "bf9f4235-5501-4ba1-b387-56d73fa4f551",
   "metadata": {},
   "source": [
    "#### Histogram for depression data distribution before and after covid"
   ]
  },
  {
   "cell_type": "code",
   "execution_count": 18,
   "id": "19a90d06-8ad8-47e2-9a2e-64f7ba8a676d",
   "metadata": {},
   "outputs": [
    {
     "data": {
      "text/html": [
       "<div>\n",
       "<style scoped>\n",
       "    .dataframe tbody tr th:only-of-type {\n",
       "        vertical-align: middle;\n",
       "    }\n",
       "\n",
       "    .dataframe tbody tr th {\n",
       "        vertical-align: top;\n",
       "    }\n",
       "\n",
       "    .dataframe thead th {\n",
       "        text-align: right;\n",
       "    }\n",
       "</style>\n",
       "<table border=\"1\" class=\"dataframe\">\n",
       "  <thead>\n",
       "    <tr style=\"text-align: right;\">\n",
       "      <th></th>\n",
       "      <th>Entity</th>\n",
       "      <th>Prevalence - Depressive disorders - Sex: Both - Age: Age-standardized (Percent)</th>\n",
       "    </tr>\n",
       "  </thead>\n",
       "  <tbody>\n",
       "    <tr>\n",
       "      <th>0</th>\n",
       "      <td>Afghanistan</td>\n",
       "      <td>5.113303</td>\n",
       "    </tr>\n",
       "    <tr>\n",
       "      <th>1</th>\n",
       "      <td>Africa</td>\n",
       "      <td>4.540591</td>\n",
       "    </tr>\n",
       "    <tr>\n",
       "      <th>2</th>\n",
       "      <td>African Region</td>\n",
       "      <td>4.561188</td>\n",
       "    </tr>\n",
       "    <tr>\n",
       "      <th>3</th>\n",
       "      <td>African Union</td>\n",
       "      <td>4.540591</td>\n",
       "    </tr>\n",
       "    <tr>\n",
       "      <th>4</th>\n",
       "      <td>Albania</td>\n",
       "      <td>2.610017</td>\n",
       "    </tr>\n",
       "  </tbody>\n",
       "</table>\n",
       "</div>"
      ],
      "text/plain": [
       "           Entity  \\\n",
       "0     Afghanistan   \n",
       "1          Africa   \n",
       "2  African Region   \n",
       "3   African Union   \n",
       "4         Albania   \n",
       "\n",
       "  Prevalence - Depressive disorders - Sex: Both - Age: Age-standardized (Percent)  \n",
       "0                                           5.113303                               \n",
       "1                                           4.540591                               \n",
       "2                                           4.561188                               \n",
       "3                                           4.540591                               \n",
       "4                                           2.610017                               "
      ]
     },
     "execution_count": 18,
     "metadata": {},
     "output_type": "execute_result"
    }
   ],
   "source": [
    "depression_before_covid_15.head()"
   ]
  },
  {
   "cell_type": "code",
   "execution_count": 19,
   "id": "780366db-c637-4c12-bde5-8eb1128d8875",
   "metadata": {},
   "outputs": [
    {
     "data": {
      "text/html": [
       "<div>\n",
       "<style scoped>\n",
       "    .dataframe tbody tr th:only-of-type {\n",
       "        vertical-align: middle;\n",
       "    }\n",
       "\n",
       "    .dataframe tbody tr th {\n",
       "        vertical-align: top;\n",
       "    }\n",
       "\n",
       "    .dataframe thead th {\n",
       "        text-align: right;\n",
       "    }\n",
       "</style>\n",
       "<table border=\"1\" class=\"dataframe\">\n",
       "  <thead>\n",
       "    <tr style=\"text-align: right;\">\n",
       "      <th></th>\n",
       "      <th>country</th>\n",
       "      <th>prevalence</th>\n",
       "      <th>cases</th>\n",
       "      <th>pop2022</th>\n",
       "    </tr>\n",
       "  </thead>\n",
       "  <tbody>\n",
       "    <tr>\n",
       "      <th>0</th>\n",
       "      <td>Ukraine</td>\n",
       "      <td>6.3</td>\n",
       "      <td>2800587</td>\n",
       "      <td>43192.122</td>\n",
       "    </tr>\n",
       "    <tr>\n",
       "      <th>1</th>\n",
       "      <td>Estonia</td>\n",
       "      <td>5.9</td>\n",
       "      <td>75667</td>\n",
       "      <td>1321.910</td>\n",
       "    </tr>\n",
       "    <tr>\n",
       "      <th>2</th>\n",
       "      <td>Australia</td>\n",
       "      <td>5.9</td>\n",
       "      <td>1318599</td>\n",
       "      <td>26068.792</td>\n",
       "    </tr>\n",
       "    <tr>\n",
       "      <th>3</th>\n",
       "      <td>United States</td>\n",
       "      <td>5.9</td>\n",
       "      <td>17491047</td>\n",
       "      <td>334805.269</td>\n",
       "    </tr>\n",
       "    <tr>\n",
       "      <th>4</th>\n",
       "      <td>Brazil</td>\n",
       "      <td>5.8</td>\n",
       "      <td>11548577</td>\n",
       "      <td>215353.593</td>\n",
       "    </tr>\n",
       "  </tbody>\n",
       "</table>\n",
       "</div>"
      ],
      "text/plain": [
       "         country  prevalence     cases     pop2022\n",
       "0        Ukraine         6.3   2800587   43192.122\n",
       "1        Estonia         5.9     75667    1321.910\n",
       "2      Australia         5.9   1318599   26068.792\n",
       "3  United States         5.9  17491047  334805.269\n",
       "4         Brazil         5.8  11548577  215353.593"
      ]
     },
     "execution_count": 19,
     "metadata": {},
     "output_type": "execute_result"
    }
   ],
   "source": [
    "depression_during_covid.head()"
   ]
  },
  {
   "cell_type": "code",
   "execution_count": 20,
   "id": "7a3017d1-688e-4d80-97f0-2052b7ccad8d",
   "metadata": {},
   "outputs": [
    {
     "data": {
      "text/html": [
       "<div>\n",
       "<style scoped>\n",
       "    .dataframe tbody tr th:only-of-type {\n",
       "        vertical-align: middle;\n",
       "    }\n",
       "\n",
       "    .dataframe tbody tr th {\n",
       "        vertical-align: top;\n",
       "    }\n",
       "\n",
       "    .dataframe thead th {\n",
       "        text-align: right;\n",
       "    }\n",
       "</style>\n",
       "<table border=\"1\" class=\"dataframe\">\n",
       "  <thead>\n",
       "    <tr style=\"text-align: right;\">\n",
       "      <th></th>\n",
       "      <th>Country</th>\n",
       "      <th>Before covid rate</th>\n",
       "      <th>During covid rate</th>\n",
       "    </tr>\n",
       "  </thead>\n",
       "  <tbody>\n",
       "    <tr>\n",
       "      <th>0</th>\n",
       "      <td>Ukraine</td>\n",
       "      <td>4.184656</td>\n",
       "      <td>6.3</td>\n",
       "    </tr>\n",
       "    <tr>\n",
       "      <th>1</th>\n",
       "      <td>Estonia</td>\n",
       "      <td>3.983596</td>\n",
       "      <td>5.9</td>\n",
       "    </tr>\n",
       "    <tr>\n",
       "      <th>2</th>\n",
       "      <td>Australia</td>\n",
       "      <td>4.947175</td>\n",
       "      <td>5.9</td>\n",
       "    </tr>\n",
       "    <tr>\n",
       "      <th>3</th>\n",
       "      <td>United States</td>\n",
       "      <td>4.751602</td>\n",
       "      <td>5.9</td>\n",
       "    </tr>\n",
       "    <tr>\n",
       "      <th>4</th>\n",
       "      <td>Brazil</td>\n",
       "      <td>4.032894</td>\n",
       "      <td>5.8</td>\n",
       "    </tr>\n",
       "  </tbody>\n",
       "</table>\n",
       "</div>"
      ],
      "text/plain": [
       "         Country  Before covid rate  During covid rate\n",
       "0        Ukraine           4.184656                6.3\n",
       "1        Estonia           3.983596                5.9\n",
       "2      Australia           4.947175                5.9\n",
       "3  United States           4.751602                5.9\n",
       "4         Brazil           4.032894                5.8"
      ]
     },
     "execution_count": 20,
     "metadata": {},
     "output_type": "execute_result"
    }
   ],
   "source": [
    "before_rate = []\n",
    "during_rate = []\n",
    "common_countries = []\n",
    "\n",
    "countries = depression_during_covid['country']\n",
    "\n",
    "for c in countries:\n",
    "    if(c in depression_before_covid_15['Entity'].values):\n",
    "        mean_val = (depression_before_covid_15[depression_before_covid_15['Entity']==c]['Prevalence - Depressive disorders - Sex: Both - Age: Age-standardized (Percent)'].item() + \n",
    "                    depression_before_covid_15[depression_before_covid_16['Entity']==c]['Prevalence - Depressive disorders - Sex: Both - Age: Age-standardized (Percent)'].item() + \n",
    "                    depression_before_covid_15[depression_before_covid_17['Entity']==c]['Prevalence - Depressive disorders - Sex: Both - Age: Age-standardized (Percent)'].item() +\n",
    "                    depression_before_covid_15[depression_before_covid_18['Entity']==c]['Prevalence - Depressive disorders - Sex: Both - Age: Age-standardized (Percent)'].item() +\n",
    "                    depression_before_covid_15[depression_before_covid_19['Entity']==c]['Prevalence - Depressive disorders - Sex: Both - Age: Age-standardized (Percent)'].item())/5\n",
    "                    \n",
    "        before_rate.append(mean_val)\n",
    "        during_rate.append(depression_during_covid[depression_during_covid['country']==c]['prevalence'].item())\n",
    "        common_countries.append(c)\n",
    "\n",
    "comp_depr_dict = {'Country':common_countries,\n",
    "                   'Before covid rate':before_rate,\n",
    "                   'During covid rate': during_rate}\n",
    "\n",
    "comp_depr = pd.DataFrame.from_dict(comp_depr_dict)\n",
    "comp_depr.head()"
   ]
  },
  {
   "cell_type": "code",
   "execution_count": 21,
   "id": "6fd35b0b-d3d7-41c4-8ac7-484ea46ca259",
   "metadata": {},
   "outputs": [
    {
     "data": {
      "image/png": "[encoded data removed]",
      "text/plain": [
       "<Figure size 720x504 with 1 Axes>"
      ]
     },
     "metadata": {
      "needs_background": "light"
     },
     "output_type": "display_data"
    }
   ],
   "source": [
    "fig = plt.figure(figsize=(10,7))\n",
    "before_covid= comp_depr['Before covid rate']\n",
    "during_covid= comp_depr['During covid rate']\n",
    "plt.hist([before_covid, during_covid], bins=20 ,color=[\"#1f77b4\",\"orange\"],label=['Before COVID', 'During COVID'],density=True)\n",
    "plt.axvline(before_covid.mean(), color=\"#1f77b4\",linestyle='--')\n",
    "plt.axvline(during_covid.mean(), color=\"orange\",linestyle='--')\n",
    "plt.legend(loc='upper right')\n",
    "plt.xlabel('Depression Prevalence Rate')\n",
    "plt.ylabel('Density')\n",
    "plt.show()\n",
    "\n",
    "fig.savefig('./Figures/MINE/depression_compare_histogram.png')"
   ]
  },
  {
   "cell_type": "markdown",
   "id": "479d8881-86cc-4bdb-bef4-1dc582b7644f",
   "metadata": {},
   "source": [
    "#### Trend in the US"
   ]
  },
  {
   "cell_type": "markdown",
   "id": "71c6144a-ae0b-4073-9fda-c6f24eb996e1",
   "metadata": {},
   "source": [
    "Tableau plots"
   ]
  },
  {
   "cell_type": "markdown",
   "id": "806c825c-ac4f-4e66-b29f-9f07a9dfbca6",
   "metadata": {},
   "source": [
    "#### Unemployment"
   ]
  },
  {
   "cell_type": "markdown",
   "id": "a9c74d5b-a199-45d8-9dde-b11da10cabd5",
   "metadata": {},
   "source": [
    "Unemployment vs mental illness - tableau (side by side chart)"
   ]
  },
  {
   "cell_type": "code",
   "execution_count": 22,
   "id": "11d85bbf-0e9e-4a9d-bd01-e5011093040b",
   "metadata": {},
   "outputs": [
    {
     "data": {
      "text/html": [
       "<div>\n",
       "<style scoped>\n",
       "    .dataframe tbody tr th:only-of-type {\n",
       "        vertical-align: middle;\n",
       "    }\n",
       "\n",
       "    .dataframe tbody tr th {\n",
       "        vertical-align: top;\n",
       "    }\n",
       "\n",
       "    .dataframe thead th {\n",
       "        text-align: right;\n",
       "    }\n",
       "</style>\n",
       "<table border=\"1\" class=\"dataframe\">\n",
       "  <thead>\n",
       "    <tr style=\"text-align: right;\">\n",
       "      <th></th>\n",
       "      <th>country</th>\n",
       "      <th>rateWb</th>\n",
       "      <th>yearWb</th>\n",
       "      <th>rateIlo</th>\n",
       "      <th>yearIlo</th>\n",
       "      <th>rateCia</th>\n",
       "      <th>yearCia</th>\n",
       "    </tr>\n",
       "  </thead>\n",
       "  <tbody>\n",
       "    <tr>\n",
       "      <th>0</th>\n",
       "      <td>South Africa</td>\n",
       "      <td>29.2</td>\n",
       "      <td>2020</td>\n",
       "      <td>29.2</td>\n",
       "      <td>2020.0</td>\n",
       "      <td>28.53</td>\n",
       "      <td>2019.0</td>\n",
       "    </tr>\n",
       "    <tr>\n",
       "      <th>1</th>\n",
       "      <td>Djibouti</td>\n",
       "      <td>26.1</td>\n",
       "      <td>2017</td>\n",
       "      <td>26.1</td>\n",
       "      <td>2017.0</td>\n",
       "      <td>40.00</td>\n",
       "      <td>2017.0</td>\n",
       "    </tr>\n",
       "    <tr>\n",
       "      <th>2</th>\n",
       "      <td>Equatorial Guinea</td>\n",
       "      <td>25.0</td>\n",
       "      <td>1983</td>\n",
       "      <td>NaN</td>\n",
       "      <td>NaN</td>\n",
       "      <td>8.60</td>\n",
       "      <td>2014.0</td>\n",
       "    </tr>\n",
       "    <tr>\n",
       "      <th>3</th>\n",
       "      <td>Botswana</td>\n",
       "      <td>24.9</td>\n",
       "      <td>2020</td>\n",
       "      <td>22.6</td>\n",
       "      <td>2019.0</td>\n",
       "      <td>20.00</td>\n",
       "      <td>2013.0</td>\n",
       "    </tr>\n",
       "    <tr>\n",
       "      <th>4</th>\n",
       "      <td>Grenada</td>\n",
       "      <td>22.9</td>\n",
       "      <td>2015</td>\n",
       "      <td>22.9</td>\n",
       "      <td>2015.0</td>\n",
       "      <td>24.00</td>\n",
       "      <td>2017.0</td>\n",
       "    </tr>\n",
       "  </tbody>\n",
       "</table>\n",
       "</div>"
      ],
      "text/plain": [
       "             country  rateWb yearWb  rateIlo  yearIlo  rateCia  yearCia\n",
       "0       South Africa    29.2   2020     29.2   2020.0    28.53   2019.0\n",
       "1           Djibouti    26.1   2017     26.1   2017.0    40.00   2017.0\n",
       "2  Equatorial Guinea    25.0   1983      NaN      NaN     8.60   2014.0\n",
       "3           Botswana    24.9   2020     22.6   2019.0    20.00   2013.0\n",
       "4            Grenada    22.9   2015     22.9   2015.0    24.00   2017.0"
      ]
     },
     "execution_count": 22,
     "metadata": {},
     "output_type": "execute_result"
    }
   ],
   "source": [
    "unemployment_during_covid = pd.read_csv(\"./Data/Mental_health/countrywise_unemployment.csv\")\n",
    "unemployment_during_covid.head()"
   ]
  },
  {
   "cell_type": "code",
   "execution_count": 23,
   "id": "a56e3b33-23cc-49ec-a95e-3f58b03c6297",
   "metadata": {},
   "outputs": [
    {
     "data": {
      "text/html": [
       "<div>\n",
       "<style scoped>\n",
       "    .dataframe tbody tr th:only-of-type {\n",
       "        vertical-align: middle;\n",
       "    }\n",
       "\n",
       "    .dataframe tbody tr th {\n",
       "        vertical-align: top;\n",
       "    }\n",
       "\n",
       "    .dataframe thead th {\n",
       "        text-align: right;\n",
       "    }\n",
       "</style>\n",
       "<table border=\"1\" class=\"dataframe\">\n",
       "  <thead>\n",
       "    <tr style=\"text-align: right;\">\n",
       "      <th></th>\n",
       "      <th>country</th>\n",
       "      <th>prevalence</th>\n",
       "      <th>cases</th>\n",
       "      <th>pop2022</th>\n",
       "    </tr>\n",
       "  </thead>\n",
       "  <tbody>\n",
       "    <tr>\n",
       "      <th>0</th>\n",
       "      <td>Ukraine</td>\n",
       "      <td>6.3</td>\n",
       "      <td>2800587</td>\n",
       "      <td>43192.122</td>\n",
       "    </tr>\n",
       "    <tr>\n",
       "      <th>1</th>\n",
       "      <td>Estonia</td>\n",
       "      <td>5.9</td>\n",
       "      <td>75667</td>\n",
       "      <td>1321.910</td>\n",
       "    </tr>\n",
       "    <tr>\n",
       "      <th>2</th>\n",
       "      <td>Australia</td>\n",
       "      <td>5.9</td>\n",
       "      <td>1318599</td>\n",
       "      <td>26068.792</td>\n",
       "    </tr>\n",
       "    <tr>\n",
       "      <th>3</th>\n",
       "      <td>United States</td>\n",
       "      <td>5.9</td>\n",
       "      <td>17491047</td>\n",
       "      <td>334805.269</td>\n",
       "    </tr>\n",
       "    <tr>\n",
       "      <th>4</th>\n",
       "      <td>Brazil</td>\n",
       "      <td>5.8</td>\n",
       "      <td>11548577</td>\n",
       "      <td>215353.593</td>\n",
       "    </tr>\n",
       "  </tbody>\n",
       "</table>\n",
       "</div>"
      ],
      "text/plain": [
       "         country  prevalence     cases     pop2022\n",
       "0        Ukraine         6.3   2800587   43192.122\n",
       "1        Estonia         5.9     75667    1321.910\n",
       "2      Australia         5.9   1318599   26068.792\n",
       "3  United States         5.9  17491047  334805.269\n",
       "4         Brazil         5.8  11548577  215353.593"
      ]
     },
     "execution_count": 23,
     "metadata": {},
     "output_type": "execute_result"
    }
   ],
   "source": [
    "depression_during_covid.head()"
   ]
  },
  {
   "cell_type": "markdown",
   "id": "33562c33-561f-40d4-a3f1-5bd1e43b48aa",
   "metadata": {},
   "source": [
    "Create a dataframe containing countrywise unemployment and depression prevalence rate"
   ]
  },
  {
   "cell_type": "code",
   "execution_count": 24,
   "id": "dfafac9b-5e5f-4b3e-8b7b-a384e052fda0",
   "metadata": {},
   "outputs": [
    {
     "data": {
      "text/html": [
       "<div>\n",
       "<style scoped>\n",
       "    .dataframe tbody tr th:only-of-type {\n",
       "        vertical-align: middle;\n",
       "    }\n",
       "\n",
       "    .dataframe tbody tr th {\n",
       "        vertical-align: top;\n",
       "    }\n",
       "\n",
       "    .dataframe thead th {\n",
       "        text-align: right;\n",
       "    }\n",
       "</style>\n",
       "<table border=\"1\" class=\"dataframe\">\n",
       "  <thead>\n",
       "    <tr style=\"text-align: right;\">\n",
       "      <th></th>\n",
       "      <th>Country</th>\n",
       "      <th>Unemployment rate</th>\n",
       "      <th>Prevalence rate</th>\n",
       "    </tr>\n",
       "  </thead>\n",
       "  <tbody>\n",
       "    <tr>\n",
       "      <th>0</th>\n",
       "      <td>Ukraine</td>\n",
       "      <td>9.5</td>\n",
       "      <td>6.3</td>\n",
       "    </tr>\n",
       "    <tr>\n",
       "      <th>1</th>\n",
       "      <td>Estonia</td>\n",
       "      <td>6.8</td>\n",
       "      <td>5.9</td>\n",
       "    </tr>\n",
       "    <tr>\n",
       "      <th>2</th>\n",
       "      <td>Australia</td>\n",
       "      <td>6.5</td>\n",
       "      <td>5.9</td>\n",
       "    </tr>\n",
       "    <tr>\n",
       "      <th>3</th>\n",
       "      <td>United States</td>\n",
       "      <td>8.1</td>\n",
       "      <td>5.9</td>\n",
       "    </tr>\n",
       "    <tr>\n",
       "      <th>4</th>\n",
       "      <td>Brazil</td>\n",
       "      <td>13.7</td>\n",
       "      <td>5.8</td>\n",
       "    </tr>\n",
       "  </tbody>\n",
       "</table>\n",
       "</div>"
      ],
      "text/plain": [
       "         Country  Unemployment rate  Prevalence rate\n",
       "0        Ukraine                9.5              6.3\n",
       "1        Estonia                6.8              5.9\n",
       "2      Australia                6.5              5.9\n",
       "3  United States                8.1              5.9\n",
       "4         Brazil               13.7              5.8"
      ]
     },
     "execution_count": 24,
     "metadata": {},
     "output_type": "execute_result"
    }
   ],
   "source": [
    "unemp_rate = []\n",
    "dep_rate = []\n",
    "common_countries = []\n",
    "\n",
    "countries = depression_during_covid['country']\n",
    "\n",
    "for c in countries:\n",
    "    if(c in unemployment_during_covid['country'].values):\n",
    "        unemp_rate.append(unemployment_during_covid[unemployment_during_covid['country']==c]['rateWb'].item())\n",
    "        dep_rate.append(depression_during_covid[depression_during_covid['country']==c]['prevalence'].item())\n",
    "        common_countries.append(c)\n",
    "\n",
    "unemp_depr_dict = {'Country':common_countries,\n",
    "                   'Unemployment rate':unemp_rate,\n",
    "                   'Prevalence rate': dep_rate}\n",
    "\n",
    "unemp_depr = pd.DataFrame.from_dict(unemp_depr_dict)\n",
    "unemp_depr.head()"
   ]
  },
  {
   "cell_type": "code",
   "execution_count": 25,
   "id": "75f0e7e5-5f67-4902-84ca-7e1a7abf84c1",
   "metadata": {},
   "outputs": [
    {
     "name": "stdout",
     "output_type": "stream",
     "text": [
      "Country              0\n",
      "Unemployment rate    4\n",
      "Prevalence rate      0\n",
      "dtype: int64\n"
     ]
    }
   ],
   "source": [
    "print(unemp_depr.isnull().sum())"
   ]
  },
  {
   "cell_type": "code",
   "execution_count": 26,
   "id": "f13ebdbc-6263-4a7d-aac7-bf2eda9b69f2",
   "metadata": {},
   "outputs": [
    {
     "name": "stdout",
     "output_type": "stream",
     "text": [
      "Country              0\n",
      "Unemployment rate    0\n",
      "Prevalence rate      0\n",
      "dtype: int64\n"
     ]
    }
   ],
   "source": [
    "unemp_depr = unemp_depr.dropna()\n",
    "print(unemp_depr.isnull().sum())"
   ]
  },
  {
   "cell_type": "code",
   "execution_count": 27,
   "id": "43384dc1-c630-4613-8d40-50743a2f80b2",
   "metadata": {},
   "outputs": [
    {
     "data": {
      "image/png": "[encoded data removed]",
      "text/plain": [
       "<Figure size 720x504 with 1 Axes>"
      ]
     },
     "metadata": {},
     "output_type": "display_data"
    }
   ],
   "source": [
    "sns.set(rc={'figure.figsize':(10,7)})\n",
    "ax = sns.scatterplot(x=unemp_depr['Unemployment rate'],y=unemp_depr['Prevalence rate'])\n",
    "plt.xlabel('Unemployment rate')\n",
    "plt.ylabel('Depression prevalence rate')\n",
    "ax.figure.savefig(\"./Figures/MINE/unemployment_depression.png\")"
   ]
  },
  {
   "cell_type": "code",
   "execution_count": 28,
   "id": "9b0c6ce1-9c27-4c93-a7ba-56ba6f52f849",
   "metadata": {},
   "outputs": [
    {
     "name": "stdout",
     "output_type": "stream",
     "text": [
      "0.11520064714197709 0.1323651867885431\n"
     ]
    }
   ],
   "source": [
    "r,p = scipy.stats.pearsonr(unemp_depr['Unemployment rate'], unemp_depr['Prevalence rate'])\n",
    "print(r,p)"
   ]
  },
  {
   "cell_type": "markdown",
   "id": "0aa17dd9-41a1-449c-88de-b669235cda2e",
   "metadata": {},
   "source": [
    "Positive weak correlation (since r value is between 0 and 0.3) and it is statistically insignificant (p value > 0.05)"
   ]
  },
  {
   "cell_type": "markdown",
   "id": "0a1178cc-5943-4e28-b0b8-cef6ce5397a2",
   "metadata": {},
   "source": [
    "Unemployment vs Depression across US in specific"
   ]
  },
  {
   "cell_type": "code",
   "execution_count": 29,
   "id": "ba010bcd-d81d-46bd-8684-e51e75f63cbb",
   "metadata": {},
   "outputs": [
    {
     "data": {
      "text/html": [
       "<div>\n",
       "<style scoped>\n",
       "    .dataframe tbody tr th:only-of-type {\n",
       "        vertical-align: middle;\n",
       "    }\n",
       "\n",
       "    .dataframe tbody tr th {\n",
       "        vertical-align: top;\n",
       "    }\n",
       "\n",
       "    .dataframe thead th {\n",
       "        text-align: right;\n",
       "    }\n",
       "</style>\n",
       "<table border=\"1\" class=\"dataframe\">\n",
       "  <thead>\n",
       "    <tr style=\"text-align: right;\">\n",
       "      <th></th>\n",
       "      <th>State</th>\n",
       "      <th>unemploymentRate</th>\n",
       "    </tr>\n",
       "  </thead>\n",
       "  <tbody>\n",
       "    <tr>\n",
       "      <th>0</th>\n",
       "      <td>Michigan</td>\n",
       "      <td>0.057</td>\n",
       "    </tr>\n",
       "    <tr>\n",
       "      <th>1</th>\n",
       "      <td>Virginia</td>\n",
       "      <td>0.050</td>\n",
       "    </tr>\n",
       "    <tr>\n",
       "      <th>2</th>\n",
       "      <td>Kansas</td>\n",
       "      <td>0.049</td>\n",
       "    </tr>\n",
       "    <tr>\n",
       "      <th>3</th>\n",
       "      <td>New Hampshire</td>\n",
       "      <td>0.047</td>\n",
       "    </tr>\n",
       "    <tr>\n",
       "      <th>4</th>\n",
       "      <td>Alabama</td>\n",
       "      <td>0.046</td>\n",
       "    </tr>\n",
       "  </tbody>\n",
       "</table>\n",
       "</div>"
      ],
      "text/plain": [
       "           State  unemploymentRate\n",
       "0       Michigan             0.057\n",
       "1       Virginia             0.050\n",
       "2         Kansas             0.049\n",
       "3  New Hampshire             0.047\n",
       "4        Alabama             0.046"
      ]
     },
     "execution_count": 29,
     "metadata": {},
     "output_type": "execute_result"
    }
   ],
   "source": [
    "unemployment_US = pd.read_csv(\"./Data/Mental_health/Geographical/US_statewise_unemployment.csv\")\n",
    "unemployment_US.head()"
   ]
  },
  {
   "cell_type": "code",
   "execution_count": 30,
   "id": "f1bb5506-557d-4aa0-acd9-b479ffd21bb0",
   "metadata": {},
   "outputs": [
    {
     "data": {
      "text/html": [
       "<div>\n",
       "<style scoped>\n",
       "    .dataframe tbody tr th:only-of-type {\n",
       "        vertical-align: middle;\n",
       "    }\n",
       "\n",
       "    .dataframe tbody tr th {\n",
       "        vertical-align: top;\n",
       "    }\n",
       "\n",
       "    .dataframe thead th {\n",
       "        text-align: right;\n",
       "    }\n",
       "</style>\n",
       "<table border=\"1\" class=\"dataframe\">\n",
       "  <thead>\n",
       "    <tr style=\"text-align: right;\">\n",
       "      <th></th>\n",
       "      <th>State</th>\n",
       "      <th>rateMajorDepression</th>\n",
       "    </tr>\n",
       "  </thead>\n",
       "  <tbody>\n",
       "    <tr>\n",
       "      <th>0</th>\n",
       "      <td>Utah</td>\n",
       "      <td>0.06</td>\n",
       "    </tr>\n",
       "    <tr>\n",
       "      <th>1</th>\n",
       "      <td>Rhode Island</td>\n",
       "      <td>0.06</td>\n",
       "    </tr>\n",
       "    <tr>\n",
       "      <th>2</th>\n",
       "      <td>Minnesota</td>\n",
       "      <td>0.06</td>\n",
       "    </tr>\n",
       "    <tr>\n",
       "      <th>3</th>\n",
       "      <td>Maine</td>\n",
       "      <td>0.06</td>\n",
       "    </tr>\n",
       "    <tr>\n",
       "      <th>4</th>\n",
       "      <td>West Virginia</td>\n",
       "      <td>0.05</td>\n",
       "    </tr>\n",
       "  </tbody>\n",
       "</table>\n",
       "</div>"
      ],
      "text/plain": [
       "           State  rateMajorDepression\n",
       "0           Utah                 0.06\n",
       "1   Rhode Island                 0.06\n",
       "2      Minnesota                 0.06\n",
       "3          Maine                 0.06\n",
       "4  West Virginia                 0.05"
      ]
     },
     "execution_count": 30,
     "metadata": {},
     "output_type": "execute_result"
    }
   ],
   "source": [
    "depression_US = pd.read_csv(\"./Data/Mental_health/Geographical/US_statewise_depression.csv\")\n",
    "depression_US.head()"
   ]
  },
  {
   "cell_type": "code",
   "execution_count": 31,
   "id": "f4305290-7229-44be-a631-cd05841f6077",
   "metadata": {},
   "outputs": [
    {
     "data": {
      "text/html": [
       "<div>\n",
       "<style scoped>\n",
       "    .dataframe tbody tr th:only-of-type {\n",
       "        vertical-align: middle;\n",
       "    }\n",
       "\n",
       "    .dataframe tbody tr th {\n",
       "        vertical-align: top;\n",
       "    }\n",
       "\n",
       "    .dataframe thead th {\n",
       "        text-align: right;\n",
       "    }\n",
       "</style>\n",
       "<table border=\"1\" class=\"dataframe\">\n",
       "  <thead>\n",
       "    <tr style=\"text-align: right;\">\n",
       "      <th></th>\n",
       "      <th>State</th>\n",
       "      <th>Unemployment rate</th>\n",
       "      <th>Depression rate</th>\n",
       "    </tr>\n",
       "  </thead>\n",
       "  <tbody>\n",
       "    <tr>\n",
       "      <th>0</th>\n",
       "      <td>Utah</td>\n",
       "      <td>0.026</td>\n",
       "      <td>0.06</td>\n",
       "    </tr>\n",
       "    <tr>\n",
       "      <th>1</th>\n",
       "      <td>Rhode Island</td>\n",
       "      <td>0.032</td>\n",
       "      <td>0.06</td>\n",
       "    </tr>\n",
       "    <tr>\n",
       "      <th>2</th>\n",
       "      <td>Minnesota</td>\n",
       "      <td>0.033</td>\n",
       "      <td>0.06</td>\n",
       "    </tr>\n",
       "    <tr>\n",
       "      <th>3</th>\n",
       "      <td>Maine</td>\n",
       "      <td>0.028</td>\n",
       "      <td>0.06</td>\n",
       "    </tr>\n",
       "    <tr>\n",
       "      <th>4</th>\n",
       "      <td>West Virginia</td>\n",
       "      <td>0.037</td>\n",
       "      <td>0.05</td>\n",
       "    </tr>\n",
       "  </tbody>\n",
       "</table>\n",
       "</div>"
      ],
      "text/plain": [
       "           State  Unemployment rate  Depression rate\n",
       "0           Utah              0.026             0.06\n",
       "1   Rhode Island              0.032             0.06\n",
       "2      Minnesota              0.033             0.06\n",
       "3          Maine              0.028             0.06\n",
       "4  West Virginia              0.037             0.05"
      ]
     },
     "execution_count": 31,
     "metadata": {},
     "output_type": "execute_result"
    }
   ],
   "source": [
    "unemp_rate = []\n",
    "dep_rate = []\n",
    "common_states = []\n",
    "\n",
    "states = depression_US['State']\n",
    "\n",
    "for s in states:\n",
    "    if(s in unemployment_US['State'].values):\n",
    "        unemp_rate.append(unemployment_US[unemployment_US['State']==s]['unemploymentRate'].item())\n",
    "        dep_rate.append(depression_US[depression_US['State']==s]['rateMajorDepression'].item())\n",
    "        common_states.append(s)\n",
    "\n",
    "unemp_depr_dict = {'State':common_states,\n",
    "                   'Unemployment rate':unemp_rate,\n",
    "                   'Depression rate': dep_rate}\n",
    "\n",
    "unemp_depr = pd.DataFrame.from_dict(unemp_depr_dict)\n",
    "unemp_depr.head()"
   ]
  },
  {
   "cell_type": "code",
   "execution_count": 32,
   "id": "00970eaf-21fa-4532-b108-edcb41ffe4c5",
   "metadata": {},
   "outputs": [
    {
     "name": "stdout",
     "output_type": "stream",
     "text": [
      "State                0\n",
      "Unemployment rate    2\n",
      "Depression rate      1\n",
      "dtype: int64\n"
     ]
    }
   ],
   "source": [
    "print(unemp_depr.isnull().sum())"
   ]
  },
  {
   "cell_type": "code",
   "execution_count": 33,
   "id": "cae4a705-3d28-47ca-ba5f-dd8794cbadcb",
   "metadata": {},
   "outputs": [
    {
     "name": "stdout",
     "output_type": "stream",
     "text": [
      "State                0\n",
      "Unemployment rate    0\n",
      "Depression rate      0\n",
      "dtype: int64\n"
     ]
    }
   ],
   "source": [
    "unemp_depr = unemp_depr.dropna()\n",
    "print(unemp_depr.isnull().sum())"
   ]
  },
  {
   "cell_type": "code",
   "execution_count": 34,
   "id": "5179857f-6a22-4152-b0ed-aa5afb3cbc4f",
   "metadata": {},
   "outputs": [
    {
     "data": {
      "image/png": "[encoded data removed]",
      "text/plain": [
       "<Figure size 720x504 with 1 Axes>"
      ]
     },
     "metadata": {},
     "output_type": "display_data"
    }
   ],
   "source": [
    "ax = sns.scatterplot(x=unemp_depr['Unemployment rate'],y=unemp_depr['Depression rate'])\n",
    "plt.xlabel('Unemployment rate')\n",
    "plt.ylabel('Depression rate')\n",
    "ax.figure.savefig(\"./Figures/MINE/unemployment_depression_US.png\")"
   ]
  },
  {
   "cell_type": "code",
   "execution_count": 35,
   "id": "c1660637-f0a3-449d-9a79-e070239c0868",
   "metadata": {},
   "outputs": [
    {
     "name": "stdout",
     "output_type": "stream",
     "text": [
      "0.008438067131744893 0.9551094240575221\n"
     ]
    }
   ],
   "source": [
    "r,p = scipy.stats.pearsonr(unemp_depr['Unemployment rate'], unemp_depr['Depression rate'])\n",
    "print(r,p)"
   ]
  },
  {
   "cell_type": "markdown",
   "id": "6dd700f8-e2d3-4efd-8ea6-3a63c18a5054",
   "metadata": {},
   "source": [
    "Positive weak correlation (since r value is between 0 and 0.3) and it is statistically insignificant (p value > 0.05)"
   ]
  },
  {
   "cell_type": "markdown",
   "id": "51d89ec4-eb20-48d1-9dbc-b64e6df93e96",
   "metadata": {},
   "source": [
    "#### Gender-wise mental health effect"
   ]
  },
  {
   "cell_type": "markdown",
   "id": "7f77d612-1513-4909-9d6f-06c0b7c11380",
   "metadata": {},
   "source": [
    "Tableau Plots"
   ]
  },
  {
   "cell_type": "markdown",
   "id": "d923a313-f318-48b7-a39a-51f2348bac40",
   "metadata": {},
   "source": [
    "#### Young Adults"
   ]
  },
  {
   "cell_type": "markdown",
   "id": "f0ced8b0-13e1-4325-ae03-d334830242f4",
   "metadata": {},
   "source": [
    "Data - Survey results from India"
   ]
  },
  {
   "cell_type": "code",
   "execution_count": 36,
   "id": "589db112-ba6f-4762-8129-091694741f7e",
   "metadata": {},
   "outputs": [
    {
     "data": {
      "text/html": [
       "<div>\n",
       "<style scoped>\n",
       "    .dataframe tbody tr th:only-of-type {\n",
       "        vertical-align: middle;\n",
       "    }\n",
       "\n",
       "    .dataframe tbody tr th {\n",
       "        vertical-align: top;\n",
       "    }\n",
       "\n",
       "    .dataframe thead th {\n",
       "        text-align: right;\n",
       "    }\n",
       "</style>\n",
       "<table border=\"1\" class=\"dataframe\">\n",
       "  <thead>\n",
       "    <tr style=\"text-align: right;\">\n",
       "      <th></th>\n",
       "      <th>ID</th>\n",
       "      <th>Region of residence</th>\n",
       "      <th>Age of Subject</th>\n",
       "      <th>Time spent on Online Class</th>\n",
       "      <th>Rating of Online Class experience</th>\n",
       "      <th>Medium for online class</th>\n",
       "      <th>Time spent on self study</th>\n",
       "      <th>Time spent on fitness</th>\n",
       "      <th>Time spent on sleep</th>\n",
       "      <th>Time spent on social media</th>\n",
       "      <th>Prefered social media platform</th>\n",
       "      <th>Time spent on TV</th>\n",
       "      <th>Number of meals per day</th>\n",
       "      <th>Change in your weight</th>\n",
       "      <th>Health issue during lockdown</th>\n",
       "      <th>Stress busters</th>\n",
       "      <th>Time utilized</th>\n",
       "      <th>Do you find yourself more connected with your family, close friends , relatives  ?</th>\n",
       "      <th>What you miss the most</th>\n",
       "    </tr>\n",
       "  </thead>\n",
       "  <tbody>\n",
       "    <tr>\n",
       "      <th>0</th>\n",
       "      <td>R1</td>\n",
       "      <td>Delhi-NCR</td>\n",
       "      <td>21</td>\n",
       "      <td>2.0</td>\n",
       "      <td>Good</td>\n",
       "      <td>Laptop/Desktop</td>\n",
       "      <td>4.0</td>\n",
       "      <td>0.0</td>\n",
       "      <td>7.0</td>\n",
       "      <td>3.0</td>\n",
       "      <td>Linkedin</td>\n",
       "      <td>1</td>\n",
       "      <td>4</td>\n",
       "      <td>Increased</td>\n",
       "      <td>NO</td>\n",
       "      <td>Cooking</td>\n",
       "      <td>YES</td>\n",
       "      <td>YES</td>\n",
       "      <td>School/college</td>\n",
       "    </tr>\n",
       "    <tr>\n",
       "      <th>1</th>\n",
       "      <td>R2</td>\n",
       "      <td>Delhi-NCR</td>\n",
       "      <td>21</td>\n",
       "      <td>0.0</td>\n",
       "      <td>Excellent</td>\n",
       "      <td>Smartphone</td>\n",
       "      <td>0.0</td>\n",
       "      <td>2.0</td>\n",
       "      <td>10.0</td>\n",
       "      <td>3.0</td>\n",
       "      <td>Youtube</td>\n",
       "      <td>0</td>\n",
       "      <td>3</td>\n",
       "      <td>Decreased</td>\n",
       "      <td>NO</td>\n",
       "      <td>Scrolling through social media</td>\n",
       "      <td>YES</td>\n",
       "      <td>NO</td>\n",
       "      <td>Roaming around freely</td>\n",
       "    </tr>\n",
       "    <tr>\n",
       "      <th>2</th>\n",
       "      <td>R3</td>\n",
       "      <td>Delhi-NCR</td>\n",
       "      <td>20</td>\n",
       "      <td>7.0</td>\n",
       "      <td>Very poor</td>\n",
       "      <td>Laptop/Desktop</td>\n",
       "      <td>3.0</td>\n",
       "      <td>0.0</td>\n",
       "      <td>6.0</td>\n",
       "      <td>2.0</td>\n",
       "      <td>Linkedin</td>\n",
       "      <td>0</td>\n",
       "      <td>3</td>\n",
       "      <td>Remain Constant</td>\n",
       "      <td>NO</td>\n",
       "      <td>Listening to music</td>\n",
       "      <td>NO</td>\n",
       "      <td>YES</td>\n",
       "      <td>Travelling</td>\n",
       "    </tr>\n",
       "    <tr>\n",
       "      <th>3</th>\n",
       "      <td>R4</td>\n",
       "      <td>Delhi-NCR</td>\n",
       "      <td>20</td>\n",
       "      <td>3.0</td>\n",
       "      <td>Very poor</td>\n",
       "      <td>Smartphone</td>\n",
       "      <td>2.0</td>\n",
       "      <td>1.0</td>\n",
       "      <td>6.0</td>\n",
       "      <td>5.0</td>\n",
       "      <td>Instagram</td>\n",
       "      <td>0</td>\n",
       "      <td>3</td>\n",
       "      <td>Decreased</td>\n",
       "      <td>NO</td>\n",
       "      <td>Watching web series</td>\n",
       "      <td>NO</td>\n",
       "      <td>NO</td>\n",
       "      <td>Friends , relatives</td>\n",
       "    </tr>\n",
       "    <tr>\n",
       "      <th>4</th>\n",
       "      <td>R5</td>\n",
       "      <td>Delhi-NCR</td>\n",
       "      <td>21</td>\n",
       "      <td>3.0</td>\n",
       "      <td>Good</td>\n",
       "      <td>Laptop/Desktop</td>\n",
       "      <td>3.0</td>\n",
       "      <td>1.0</td>\n",
       "      <td>8.0</td>\n",
       "      <td>3.0</td>\n",
       "      <td>Instagram</td>\n",
       "      <td>1</td>\n",
       "      <td>4</td>\n",
       "      <td>Remain Constant</td>\n",
       "      <td>NO</td>\n",
       "      <td>Social Media</td>\n",
       "      <td>NO</td>\n",
       "      <td>NO</td>\n",
       "      <td>Travelling</td>\n",
       "    </tr>\n",
       "  </tbody>\n",
       "</table>\n",
       "</div>"
      ],
      "text/plain": [
       "   ID Region of residence  Age of Subject  Time spent on Online Class  \\\n",
       "0  R1           Delhi-NCR              21                         2.0   \n",
       "1  R2           Delhi-NCR              21                         0.0   \n",
       "2  R3           Delhi-NCR              20                         7.0   \n",
       "3  R4           Delhi-NCR              20                         3.0   \n",
       "4  R5           Delhi-NCR              21                         3.0   \n",
       "\n",
       "  Rating of Online Class experience Medium for online class  \\\n",
       "0                              Good          Laptop/Desktop   \n",
       "1                         Excellent              Smartphone   \n",
       "2                         Very poor          Laptop/Desktop   \n",
       "3                         Very poor              Smartphone   \n",
       "4                              Good          Laptop/Desktop   \n",
       "\n",
       "   Time spent on self study  Time spent on fitness  Time spent on sleep  \\\n",
       "0                       4.0                    0.0                  7.0   \n",
       "1                       0.0                    2.0                 10.0   \n",
       "2                       3.0                    0.0                  6.0   \n",
       "3                       2.0                    1.0                  6.0   \n",
       "4                       3.0                    1.0                  8.0   \n",
       "\n",
       "   Time spent on social media Prefered social media platform Time spent on TV  \\\n",
       "0                         3.0                       Linkedin                1   \n",
       "1                         3.0                        Youtube                0   \n",
       "2                         2.0                       Linkedin                0   \n",
       "3                         5.0                      Instagram                0   \n",
       "4                         3.0                      Instagram                1   \n",
       "\n",
       "   Number of meals per day Change in your weight Health issue during lockdown  \\\n",
       "0                        4             Increased                           NO   \n",
       "1                        3             Decreased                           NO   \n",
       "2                        3       Remain Constant                           NO   \n",
       "3                        3             Decreased                           NO   \n",
       "4                        4       Remain Constant                           NO   \n",
       "\n",
       "                   Stress busters Time utilized  \\\n",
       "0                         Cooking           YES   \n",
       "1  Scrolling through social media           YES   \n",
       "2              Listening to music            NO   \n",
       "3             Watching web series            NO   \n",
       "4                    Social Media            NO   \n",
       "\n",
       "  Do you find yourself more connected with your family, close friends , relatives  ?  \\\n",
       "0                                                YES                                   \n",
       "1                                                 NO                                   \n",
       "2                                                YES                                   \n",
       "3                                                 NO                                   \n",
       "4                                                 NO                                   \n",
       "\n",
       "  What you miss the most  \n",
       "0         School/college  \n",
       "1  Roaming around freely  \n",
       "2             Travelling  \n",
       "3    Friends , relatives  \n",
       "4             Travelling  "
      ]
     },
     "execution_count": 36,
     "metadata": {},
     "output_type": "execute_result"
    }
   ],
   "source": [
    "young_adults = pd.read_csv(\"./Data/Mental_health/Young_adults/Survey_India.csv\")\n",
    "young_adults.head()"
   ]
  },
  {
   "cell_type": "markdown",
   "id": "0b14ad29-a4f1-4d6d-afd1-98dcf6430160",
   "metadata": {},
   "source": [
    "Metadata:\n",
    "\n",
    "- Region - Delhi/Outside\n",
    "- Age - 7 to 59\n",
    "- Time spent on online class\n",
    "- Rating - 'Good', 'Excellent', 'Very poor', 'Average', 'Poor'\n",
    "- Time spent on fitness\n",
    "- Time spent on sleep\n",
    "- Time spent on social media\n",
    "- Change in weight - 'Increased', 'Decreased', 'Remain Constant'\n",
    "- Health issue during lockdown - yes/no"
   ]
  },
  {
   "cell_type": "markdown",
   "id": "63bfd748-adc3-4148-b278-15a5cc0122ed",
   "metadata": {},
   "source": [
    "#### Data Wrangling"
   ]
  },
  {
   "cell_type": "markdown",
   "id": "59db25f8-3d3f-4fdb-9949-1d09eead0318",
   "metadata": {},
   "source": [
    "Eliminating the irrelevant columns"
   ]
  },
  {
   "cell_type": "code",
   "execution_count": 37,
   "id": "1207f1c2-cb0f-47f6-9d6f-2c4a4d59d5b5",
   "metadata": {},
   "outputs": [],
   "source": [
    "young_adults.drop(\"Medium for online class\", axis=1, inplace=True)\n",
    "young_adults.drop(\"Time spent on self study\", axis=1, inplace=True)\n",
    "young_adults.drop(\"Prefered social media platform\", axis=1, inplace=True)\n",
    "young_adults.drop(\"Time spent on TV\", axis=1, inplace=True)\n",
    "young_adults.drop(\"Number of meals per day\", axis=1, inplace=True)\n",
    "young_adults.drop(\"Stress busters\", axis=1, inplace=True)\n",
    "young_adults.drop(\"Time utilized\", axis=1, inplace=True)\n",
    "young_adults.drop(\"Do you find yourself more connected with your family, close friends , relatives  ?\", axis=1, inplace=True)\n",
    "young_adults.drop(\"What you miss the most\", axis=1, inplace=True)"
   ]
  },
  {
   "cell_type": "code",
   "execution_count": 38,
   "id": "05461df7-cc1f-465e-b49f-4dc1f82def92",
   "metadata": {},
   "outputs": [
    {
     "data": {
      "text/html": [
       "<div>\n",
       "<style scoped>\n",
       "    .dataframe tbody tr th:only-of-type {\n",
       "        vertical-align: middle;\n",
       "    }\n",
       "\n",
       "    .dataframe tbody tr th {\n",
       "        vertical-align: top;\n",
       "    }\n",
       "\n",
       "    .dataframe thead th {\n",
       "        text-align: right;\n",
       "    }\n",
       "</style>\n",
       "<table border=\"1\" class=\"dataframe\">\n",
       "  <thead>\n",
       "    <tr style=\"text-align: right;\">\n",
       "      <th></th>\n",
       "      <th>ID</th>\n",
       "      <th>Region of residence</th>\n",
       "      <th>Age of Subject</th>\n",
       "      <th>Time spent on Online Class</th>\n",
       "      <th>Rating of Online Class experience</th>\n",
       "      <th>Time spent on fitness</th>\n",
       "      <th>Time spent on sleep</th>\n",
       "      <th>Time spent on social media</th>\n",
       "      <th>Change in your weight</th>\n",
       "      <th>Health issue during lockdown</th>\n",
       "    </tr>\n",
       "  </thead>\n",
       "  <tbody>\n",
       "    <tr>\n",
       "      <th>0</th>\n",
       "      <td>R1</td>\n",
       "      <td>Delhi-NCR</td>\n",
       "      <td>21</td>\n",
       "      <td>2.0</td>\n",
       "      <td>Good</td>\n",
       "      <td>0.0</td>\n",
       "      <td>7.0</td>\n",
       "      <td>3.0</td>\n",
       "      <td>Increased</td>\n",
       "      <td>NO</td>\n",
       "    </tr>\n",
       "    <tr>\n",
       "      <th>1</th>\n",
       "      <td>R2</td>\n",
       "      <td>Delhi-NCR</td>\n",
       "      <td>21</td>\n",
       "      <td>0.0</td>\n",
       "      <td>Excellent</td>\n",
       "      <td>2.0</td>\n",
       "      <td>10.0</td>\n",
       "      <td>3.0</td>\n",
       "      <td>Decreased</td>\n",
       "      <td>NO</td>\n",
       "    </tr>\n",
       "    <tr>\n",
       "      <th>2</th>\n",
       "      <td>R3</td>\n",
       "      <td>Delhi-NCR</td>\n",
       "      <td>20</td>\n",
       "      <td>7.0</td>\n",
       "      <td>Very poor</td>\n",
       "      <td>0.0</td>\n",
       "      <td>6.0</td>\n",
       "      <td>2.0</td>\n",
       "      <td>Remain Constant</td>\n",
       "      <td>NO</td>\n",
       "    </tr>\n",
       "    <tr>\n",
       "      <th>3</th>\n",
       "      <td>R4</td>\n",
       "      <td>Delhi-NCR</td>\n",
       "      <td>20</td>\n",
       "      <td>3.0</td>\n",
       "      <td>Very poor</td>\n",
       "      <td>1.0</td>\n",
       "      <td>6.0</td>\n",
       "      <td>5.0</td>\n",
       "      <td>Decreased</td>\n",
       "      <td>NO</td>\n",
       "    </tr>\n",
       "    <tr>\n",
       "      <th>4</th>\n",
       "      <td>R5</td>\n",
       "      <td>Delhi-NCR</td>\n",
       "      <td>21</td>\n",
       "      <td>3.0</td>\n",
       "      <td>Good</td>\n",
       "      <td>1.0</td>\n",
       "      <td>8.0</td>\n",
       "      <td>3.0</td>\n",
       "      <td>Remain Constant</td>\n",
       "      <td>NO</td>\n",
       "    </tr>\n",
       "  </tbody>\n",
       "</table>\n",
       "</div>"
      ],
      "text/plain": [
       "   ID Region of residence  Age of Subject  Time spent on Online Class  \\\n",
       "0  R1           Delhi-NCR              21                         2.0   \n",
       "1  R2           Delhi-NCR              21                         0.0   \n",
       "2  R3           Delhi-NCR              20                         7.0   \n",
       "3  R4           Delhi-NCR              20                         3.0   \n",
       "4  R5           Delhi-NCR              21                         3.0   \n",
       "\n",
       "  Rating of Online Class experience  Time spent on fitness  \\\n",
       "0                              Good                    0.0   \n",
       "1                         Excellent                    2.0   \n",
       "2                         Very poor                    0.0   \n",
       "3                         Very poor                    1.0   \n",
       "4                              Good                    1.0   \n",
       "\n",
       "   Time spent on sleep  Time spent on social media Change in your weight  \\\n",
       "0                  7.0                         3.0             Increased   \n",
       "1                 10.0                         3.0             Decreased   \n",
       "2                  6.0                         2.0       Remain Constant   \n",
       "3                  6.0                         5.0             Decreased   \n",
       "4                  8.0                         3.0       Remain Constant   \n",
       "\n",
       "  Health issue during lockdown  \n",
       "0                           NO  \n",
       "1                           NO  \n",
       "2                           NO  \n",
       "3                           NO  \n",
       "4                           NO  "
      ]
     },
     "execution_count": 38,
     "metadata": {},
     "output_type": "execute_result"
    }
   ],
   "source": [
    "young_adults.head()"
   ]
  },
  {
   "cell_type": "markdown",
   "id": "d5905da8-09d6-48e4-bc4b-3667e7b10157",
   "metadata": {},
   "source": [
    "Considering only age group 21-30"
   ]
  },
  {
   "cell_type": "code",
   "execution_count": 39,
   "id": "ce370d39-e97b-487d-a4e3-57f9eb06d99c",
   "metadata": {},
   "outputs": [],
   "source": [
    "young_adults.drop(young_adults[young_adults['Age of Subject'] > 30].index, inplace = True)\n",
    "young_adults.drop(young_adults[young_adults['Age of Subject'] < 21].index, inplace = True)"
   ]
  },
  {
   "cell_type": "code",
   "execution_count": 40,
   "id": "86ab1806-7517-49fb-a10f-45b892242224",
   "metadata": {},
   "outputs": [
    {
     "name": "stdout",
     "output_type": "stream",
     "text": [
      "ID                                    0\n",
      "Region of residence                   0\n",
      "Age of Subject                        0\n",
      "Time spent on Online Class            0\n",
      "Rating of Online Class experience    13\n",
      "Time spent on fitness                 0\n",
      "Time spent on sleep                   0\n",
      "Time spent on social media            0\n",
      "Change in your weight                 0\n",
      "Health issue during lockdown          0\n",
      "dtype: int64\n"
     ]
    }
   ],
   "source": [
    "print(young_adults.isnull().sum())"
   ]
  },
  {
   "cell_type": "markdown",
   "id": "147461b6-82ea-4e7f-a51c-10f3788ed10a",
   "metadata": {},
   "source": [
    "Removing NA rows"
   ]
  },
  {
   "cell_type": "code",
   "execution_count": 41,
   "id": "a3355dc9-b55b-41d3-92ac-78cfc82ba3c2",
   "metadata": {},
   "outputs": [
    {
     "name": "stdout",
     "output_type": "stream",
     "text": [
      "ID                                   0\n",
      "Region of residence                  0\n",
      "Age of Subject                       0\n",
      "Time spent on Online Class           0\n",
      "Rating of Online Class experience    0\n",
      "Time spent on fitness                0\n",
      "Time spent on sleep                  0\n",
      "Time spent on social media           0\n",
      "Change in your weight                0\n",
      "Health issue during lockdown         0\n",
      "dtype: int64\n"
     ]
    }
   ],
   "source": [
    "young_adults = young_adults.dropna()\n",
    "print(young_adults.isnull().sum())"
   ]
  },
  {
   "cell_type": "code",
   "execution_count": 42,
   "id": "5034e673-6767-43d1-aa83-5e7627a02f7d",
   "metadata": {},
   "outputs": [],
   "source": [
    "young_adults.to_csv(\"./Data/Mental_health/Young_adults/cleaned_survey.csv\")"
   ]
  },
  {
   "cell_type": "markdown",
   "id": "f51f238a-79b0-405a-b0e0-3a73e1c92c97",
   "metadata": {},
   "source": [
    "Effect of time spent on online class on sleep"
   ]
  },
  {
   "cell_type": "code",
   "execution_count": 43,
   "id": "b430a4d9-9d62-4ab2-bef0-00fe30df18a7",
   "metadata": {},
   "outputs": [
    {
     "data": {
      "image/png": "[encoded data removed]",
      "text/plain": [
       "<Figure size 720x504 with 1 Axes>"
      ]
     },
     "metadata": {},
     "output_type": "display_data"
    }
   ],
   "source": [
    "ax = sns.scatterplot(x=young_adults['Time spent on Online Class'],y=young_adults['Time spent on sleep'])\n",
    "plt.xlabel('Time spent on Online Class')\n",
    "plt.ylabel('Time spent on sleep')\n",
    "ax.figure.savefig(\"./Figures/MINE/young_online_sleep.png\")"
   ]
  },
  {
   "cell_type": "code",
   "execution_count": 44,
   "id": "9ae0355d-9d39-4ff2-98a6-59410b997272",
   "metadata": {},
   "outputs": [
    {
     "name": "stdout",
     "output_type": "stream",
     "text": [
      "-0.12153370911865041 0.01718905280103167\n"
     ]
    }
   ],
   "source": [
    "r,p = scipy.stats.pearsonr(young_adults['Time spent on Online Class'], young_adults['Time spent on sleep'])\n",
    "print(r,p)"
   ]
  },
  {
   "cell_type": "markdown",
   "id": "d8c1ba5c-403d-45d3-a5a3-8acd2320c849",
   "metadata": {},
   "source": [
    "Effect of time spent on online class on fitness"
   ]
  },
  {
   "cell_type": "code",
   "execution_count": 45,
   "id": "2c0511a4-f38f-4f55-91cb-dfbaed44ce6b",
   "metadata": {},
   "outputs": [
    {
     "data": {
      "image/png": "[encoded data removed]",
      "text/plain": [
       "<Figure size 720x504 with 1 Axes>"
      ]
     },
     "metadata": {},
     "output_type": "display_data"
    }
   ],
   "source": [
    "ax = sns.scatterplot(x=young_adults['Time spent on Online Class'],y=young_adults['Time spent on fitness'])\n",
    "plt.xlabel('Time spent on Online Class')\n",
    "plt.ylabel('Time spent on fitness')\n",
    "ax.figure.savefig(\"./Figures/MINE/young_online_vs_fitness.png\")"
   ]
  },
  {
   "cell_type": "code",
   "execution_count": 46,
   "id": "499d3cbc-12f8-4cd3-a967-127267a3b3e8",
   "metadata": {},
   "outputs": [
    {
     "name": "stdout",
     "output_type": "stream",
     "text": [
      "0.06224293131825665 0.2236379893528859\n"
     ]
    }
   ],
   "source": [
    "r,p = scipy.stats.pearsonr(young_adults['Time spent on Online Class'], young_adults['Time spent on fitness'])\n",
    "print(r,p)"
   ]
  },
  {
   "cell_type": "markdown",
   "id": "9f5f67a4-a939-40de-b8f9-09be12522c19",
   "metadata": {},
   "source": [
    "#### Decision Tree Classifier"
   ]
  },
  {
   "cell_type": "code",
   "execution_count": 47,
   "id": "257669f1-6c56-4a12-a9a9-d93e3856d9c3",
   "metadata": {},
   "outputs": [
    {
     "data": {
      "text/html": [
       "<div>\n",
       "<style scoped>\n",
       "    .dataframe tbody tr th:only-of-type {\n",
       "        vertical-align: middle;\n",
       "    }\n",
       "\n",
       "    .dataframe tbody tr th {\n",
       "        vertical-align: top;\n",
       "    }\n",
       "\n",
       "    .dataframe thead th {\n",
       "        text-align: right;\n",
       "    }\n",
       "</style>\n",
       "<table border=\"1\" class=\"dataframe\">\n",
       "  <thead>\n",
       "    <tr style=\"text-align: right;\">\n",
       "      <th></th>\n",
       "      <th>ID</th>\n",
       "      <th>Region of residence</th>\n",
       "      <th>Age of Subject</th>\n",
       "      <th>Time spent on Online Class</th>\n",
       "      <th>Rating of Online Class experience</th>\n",
       "      <th>Time spent on fitness</th>\n",
       "      <th>Time spent on sleep</th>\n",
       "      <th>Time spent on social media</th>\n",
       "      <th>Change in your weight</th>\n",
       "      <th>Health issue during lockdown</th>\n",
       "    </tr>\n",
       "  </thead>\n",
       "  <tbody>\n",
       "    <tr>\n",
       "      <th>0</th>\n",
       "      <td>R1</td>\n",
       "      <td>Delhi-NCR</td>\n",
       "      <td>21</td>\n",
       "      <td>2.0</td>\n",
       "      <td>Good</td>\n",
       "      <td>0.0</td>\n",
       "      <td>7.0</td>\n",
       "      <td>3.0</td>\n",
       "      <td>Increased</td>\n",
       "      <td>NO</td>\n",
       "    </tr>\n",
       "    <tr>\n",
       "      <th>1</th>\n",
       "      <td>R2</td>\n",
       "      <td>Delhi-NCR</td>\n",
       "      <td>21</td>\n",
       "      <td>0.0</td>\n",
       "      <td>Excellent</td>\n",
       "      <td>2.0</td>\n",
       "      <td>10.0</td>\n",
       "      <td>3.0</td>\n",
       "      <td>Decreased</td>\n",
       "      <td>NO</td>\n",
       "    </tr>\n",
       "    <tr>\n",
       "      <th>4</th>\n",
       "      <td>R5</td>\n",
       "      <td>Delhi-NCR</td>\n",
       "      <td>21</td>\n",
       "      <td>3.0</td>\n",
       "      <td>Good</td>\n",
       "      <td>1.0</td>\n",
       "      <td>8.0</td>\n",
       "      <td>3.0</td>\n",
       "      <td>Remain Constant</td>\n",
       "      <td>NO</td>\n",
       "    </tr>\n",
       "    <tr>\n",
       "      <th>5</th>\n",
       "      <td>R6</td>\n",
       "      <td>Delhi-NCR</td>\n",
       "      <td>21</td>\n",
       "      <td>0.0</td>\n",
       "      <td>Very poor</td>\n",
       "      <td>0.0</td>\n",
       "      <td>5.0</td>\n",
       "      <td>1.0</td>\n",
       "      <td>Decreased</td>\n",
       "      <td>YES</td>\n",
       "    </tr>\n",
       "    <tr>\n",
       "      <th>8</th>\n",
       "      <td>R9</td>\n",
       "      <td>Delhi-NCR</td>\n",
       "      <td>21</td>\n",
       "      <td>3.0</td>\n",
       "      <td>Very poor</td>\n",
       "      <td>1.0</td>\n",
       "      <td>8.0</td>\n",
       "      <td>2.0</td>\n",
       "      <td>Increased</td>\n",
       "      <td>NO</td>\n",
       "    </tr>\n",
       "  </tbody>\n",
       "</table>\n",
       "</div>"
      ],
      "text/plain": [
       "   ID Region of residence  Age of Subject  Time spent on Online Class  \\\n",
       "0  R1           Delhi-NCR              21                         2.0   \n",
       "1  R2           Delhi-NCR              21                         0.0   \n",
       "4  R5           Delhi-NCR              21                         3.0   \n",
       "5  R6           Delhi-NCR              21                         0.0   \n",
       "8  R9           Delhi-NCR              21                         3.0   \n",
       "\n",
       "  Rating of Online Class experience  Time spent on fitness  \\\n",
       "0                              Good                    0.0   \n",
       "1                         Excellent                    2.0   \n",
       "4                              Good                    1.0   \n",
       "5                         Very poor                    0.0   \n",
       "8                         Very poor                    1.0   \n",
       "\n",
       "   Time spent on sleep  Time spent on social media Change in your weight  \\\n",
       "0                  7.0                         3.0             Increased   \n",
       "1                 10.0                         3.0             Decreased   \n",
       "4                  8.0                         3.0       Remain Constant   \n",
       "5                  5.0                         1.0             Decreased   \n",
       "8                  8.0                         2.0             Increased   \n",
       "\n",
       "  Health issue during lockdown  \n",
       "0                           NO  \n",
       "1                           NO  \n",
       "4                           NO  \n",
       "5                          YES  \n",
       "8                           NO  "
      ]
     },
     "execution_count": 47,
     "metadata": {},
     "output_type": "execute_result"
    }
   ],
   "source": [
    "young_adults.head()"
   ]
  },
  {
   "cell_type": "code",
   "execution_count": 48,
   "id": "b51d712d-1787-4a83-a6ad-7dc75ab40cfb",
   "metadata": {},
   "outputs": [
    {
     "data": {
      "text/html": [
       "<div>\n",
       "<style scoped>\n",
       "    .dataframe tbody tr th:only-of-type {\n",
       "        vertical-align: middle;\n",
       "    }\n",
       "\n",
       "    .dataframe tbody tr th {\n",
       "        vertical-align: top;\n",
       "    }\n",
       "\n",
       "    .dataframe thead th {\n",
       "        text-align: right;\n",
       "    }\n",
       "</style>\n",
       "<table border=\"1\" class=\"dataframe\">\n",
       "  <thead>\n",
       "    <tr style=\"text-align: right;\">\n",
       "      <th></th>\n",
       "      <th>ID</th>\n",
       "      <th>Region of residence</th>\n",
       "      <th>Age of Subject</th>\n",
       "      <th>Time spent on Online Class</th>\n",
       "      <th>Rating of Online Class experience</th>\n",
       "      <th>Time spent on fitness</th>\n",
       "      <th>Time spent on sleep</th>\n",
       "      <th>Time spent on social media</th>\n",
       "      <th>Change in your weight</th>\n",
       "      <th>Health issue during lockdown</th>\n",
       "    </tr>\n",
       "  </thead>\n",
       "  <tbody>\n",
       "    <tr>\n",
       "      <th>0</th>\n",
       "      <td>R1</td>\n",
       "      <td>Delhi-NCR</td>\n",
       "      <td>21</td>\n",
       "      <td>2.0</td>\n",
       "      <td>1</td>\n",
       "      <td>0.0</td>\n",
       "      <td>7.0</td>\n",
       "      <td>3.0</td>\n",
       "      <td>0</td>\n",
       "      <td>1</td>\n",
       "    </tr>\n",
       "    <tr>\n",
       "      <th>1</th>\n",
       "      <td>R2</td>\n",
       "      <td>Delhi-NCR</td>\n",
       "      <td>21</td>\n",
       "      <td>0.0</td>\n",
       "      <td>0</td>\n",
       "      <td>2.0</td>\n",
       "      <td>10.0</td>\n",
       "      <td>3.0</td>\n",
       "      <td>1</td>\n",
       "      <td>1</td>\n",
       "    </tr>\n",
       "    <tr>\n",
       "      <th>4</th>\n",
       "      <td>R5</td>\n",
       "      <td>Delhi-NCR</td>\n",
       "      <td>21</td>\n",
       "      <td>3.0</td>\n",
       "      <td>1</td>\n",
       "      <td>1.0</td>\n",
       "      <td>8.0</td>\n",
       "      <td>3.0</td>\n",
       "      <td>2</td>\n",
       "      <td>1</td>\n",
       "    </tr>\n",
       "    <tr>\n",
       "      <th>5</th>\n",
       "      <td>R6</td>\n",
       "      <td>Delhi-NCR</td>\n",
       "      <td>21</td>\n",
       "      <td>0.0</td>\n",
       "      <td>4</td>\n",
       "      <td>0.0</td>\n",
       "      <td>5.0</td>\n",
       "      <td>1.0</td>\n",
       "      <td>1</td>\n",
       "      <td>0</td>\n",
       "    </tr>\n",
       "    <tr>\n",
       "      <th>8</th>\n",
       "      <td>R9</td>\n",
       "      <td>Delhi-NCR</td>\n",
       "      <td>21</td>\n",
       "      <td>3.0</td>\n",
       "      <td>4</td>\n",
       "      <td>1.0</td>\n",
       "      <td>8.0</td>\n",
       "      <td>2.0</td>\n",
       "      <td>0</td>\n",
       "      <td>1</td>\n",
       "    </tr>\n",
       "  </tbody>\n",
       "</table>\n",
       "</div>"
      ],
      "text/plain": [
       "   ID Region of residence  Age of Subject  Time spent on Online Class  \\\n",
       "0  R1           Delhi-NCR              21                         2.0   \n",
       "1  R2           Delhi-NCR              21                         0.0   \n",
       "4  R5           Delhi-NCR              21                         3.0   \n",
       "5  R6           Delhi-NCR              21                         0.0   \n",
       "8  R9           Delhi-NCR              21                         3.0   \n",
       "\n",
       "   Rating of Online Class experience  Time spent on fitness  \\\n",
       "0                                  1                    0.0   \n",
       "1                                  0                    2.0   \n",
       "4                                  1                    1.0   \n",
       "5                                  4                    0.0   \n",
       "8                                  4                    1.0   \n",
       "\n",
       "   Time spent on sleep  Time spent on social media  Change in your weight  \\\n",
       "0                  7.0                         3.0                      0   \n",
       "1                 10.0                         3.0                      1   \n",
       "4                  8.0                         3.0                      2   \n",
       "5                  5.0                         1.0                      1   \n",
       "8                  8.0                         2.0                      0   \n",
       "\n",
       "   Health issue during lockdown  \n",
       "0                             1  \n",
       "1                             1  \n",
       "4                             1  \n",
       "5                             0  \n",
       "8                             1  "
      ]
     },
     "execution_count": 48,
     "metadata": {},
     "output_type": "execute_result"
    }
   ],
   "source": [
    "young_adults['Rating of Online Class experience'] = young_adults['Rating of Online Class experience'].replace({'Excellent':0, 'Good':1, 'Average':2, 'Poor':3, 'Very poor':4})\n",
    "young_adults['Change in your weight'] = young_adults['Change in your weight'].replace({'Increased':0, 'Decreased':1, 'Remain Constant':2})\n",
    "young_adults['Health issue during lockdown'] = young_adults['Health issue during lockdown'].replace({'YES':0, 'NO':1})\n",
    "young_adults.head()"
   ]
  },
  {
   "cell_type": "code",
   "execution_count": 49,
   "id": "d507f237-b808-4b2c-b4df-462ba3dbe050",
   "metadata": {},
   "outputs": [],
   "source": [
    "list_features = ['Age of Subject', 'Time spent on Online Class', 'Rating of Online Class experience', 'Time spent on fitness', 'Time spent on sleep', 'Time spent on social media', 'Change in your weight']\n",
    "x = young_adults[list_features]\n",
    "y = young_adults['Health issue during lockdown']\n",
    "x_train, x_test, y_train, y_test = train_test_split(x,y,test_size=0.3,random_state=7)"
   ]
  },
  {
   "cell_type": "code",
   "execution_count": 50,
   "id": "5d7037f7-a337-4d3a-ade0-448abb702fa3",
   "metadata": {},
   "outputs": [
    {
     "data": {
      "text/plain": [
       "DecisionTreeClassifier(max_depth=3)"
      ]
     },
     "execution_count": 50,
     "metadata": {},
     "output_type": "execute_result"
    }
   ],
   "source": [
    "model = DecisionTreeClassifier(max_depth=3)\n",
    "model.fit(x_train, y_train)"
   ]
  },
  {
   "cell_type": "code",
   "execution_count": 51,
   "id": "ad94f28b-77b6-4d25-9b07-18eed15a65c1",
   "metadata": {},
   "outputs": [],
   "source": [
    "dot_data = StringIO()\n",
    "export_graphviz(model, out_file=dot_data, filled=True, rounded=True, special_characters=True, feature_names=list_features, class_names = ['0','1'])\n",
    "graph = pydotplus.graph_from_dot_data(dot_data.getvalue())"
   ]
  },
  {
   "cell_type": "code",
   "execution_count": 52,
   "id": "b3ce883f-4f8d-48d9-8930-6e8396db1c0a",
   "metadata": {},
   "outputs": [
    {
     "data": {
      "image/png": "[encoded data removed]",
      "text/plain": [
       "<IPython.core.display.Image object>"
      ]
     },
     "execution_count": 52,
     "metadata": {},
     "output_type": "execute_result"
    }
   ],
   "source": [
    "Image(graph.create_png())"
   ]
  },
  {
   "cell_type": "code",
   "execution_count": 53,
   "id": "657b2274-c4d9-4032-bb0a-c637dc0d4b80",
   "metadata": {},
   "outputs": [
    {
     "name": "stdout",
     "output_type": "stream",
     "text": [
      "accuracy: 0.8103448275862069\n",
      "\n",
      "              precision    recall  f1-score   support\n",
      "\n",
      "           0       0.33      0.16      0.21        19\n",
      "           1       0.85      0.94      0.89        97\n",
      "\n",
      "    accuracy                           0.81       116\n",
      "   macro avg       0.59      0.55      0.55       116\n",
      "weighted avg       0.77      0.81      0.78       116\n",
      "\n"
     ]
    }
   ],
   "source": [
    "y_pred = model.predict(x_test)\n",
    "print(\"accuracy: \" + str(accuracy_score(y_test, y_pred)) + \"\\n\")\n",
    "print(classification_report(y_test, y_pred))"
   ]
  },
  {
   "cell_type": "markdown",
   "id": "a4a36831-60d9-4eb3-b229-e9523ac96e35",
   "metadata": {},
   "source": [
    "#### Google Search Trends Analysis"
   ]
  },
  {
   "cell_type": "markdown",
   "id": "86fe74eb-b2ca-4cf3-b5df-69d36627e789",
   "metadata": {},
   "source": [
    "DATA WRANGLING"
   ]
  },
  {
   "cell_type": "code",
   "execution_count": 54,
   "id": "8d8f7b95-40b4-4183-b4b7-a69b80d2734e",
   "metadata": {},
   "outputs": [
    {
     "data": {
      "text/html": [
       "<div>\n",
       "<style scoped>\n",
       "    .dataframe tbody tr th:only-of-type {\n",
       "        vertical-align: middle;\n",
       "    }\n",
       "\n",
       "    .dataframe tbody tr th {\n",
       "        vertical-align: top;\n",
       "    }\n",
       "\n",
       "    .dataframe thead th {\n",
       "        text-align: right;\n",
       "    }\n",
       "</style>\n",
       "<table border=\"1\" class=\"dataframe\">\n",
       "  <thead>\n",
       "    <tr style=\"text-align: right;\">\n",
       "      <th></th>\n",
       "      <th>Country</th>\n",
       "      <th>depression: (2020)</th>\n",
       "    </tr>\n",
       "  </thead>\n",
       "  <tbody>\n",
       "    <tr>\n",
       "      <th>0</th>\n",
       "      <td>Palau</td>\n",
       "      <td>NaN</td>\n",
       "    </tr>\n",
       "    <tr>\n",
       "      <th>1</th>\n",
       "      <td>Micronesia</td>\n",
       "      <td>NaN</td>\n",
       "    </tr>\n",
       "    <tr>\n",
       "      <th>2</th>\n",
       "      <td>Lesotho</td>\n",
       "      <td>NaN</td>\n",
       "    </tr>\n",
       "    <tr>\n",
       "      <th>3</th>\n",
       "      <td>American Samoa</td>\n",
       "      <td>NaN</td>\n",
       "    </tr>\n",
       "    <tr>\n",
       "      <th>4</th>\n",
       "      <td>Cook Islands</td>\n",
       "      <td>NaN</td>\n",
       "    </tr>\n",
       "  </tbody>\n",
       "</table>\n",
       "</div>"
      ],
      "text/plain": [
       "          Country  depression: (2020)\n",
       "0           Palau                 NaN\n",
       "1      Micronesia                 NaN\n",
       "2         Lesotho                 NaN\n",
       "3  American Samoa                 NaN\n",
       "4    Cook Islands                 NaN"
      ]
     },
     "execution_count": 54,
     "metadata": {},
     "output_type": "execute_result"
    }
   ],
   "source": [
    "deptext_world = pd.read_csv(\"./Data/Mental_health/Text_analysis/GT_depression_map_2020.csv\")\n",
    "deptext_world.head()"
   ]
  },
  {
   "cell_type": "code",
   "execution_count": 55,
   "id": "90f68c34-7c3d-4eae-b132-93beaf11049d",
   "metadata": {},
   "outputs": [
    {
     "name": "stdout",
     "output_type": "stream",
     "text": [
      "Country               0\n",
      "depression: (2020)    0\n",
      "dtype: int64\n"
     ]
    }
   ],
   "source": [
    "deptext_world = deptext_world.dropna()\n",
    "print(deptext_world.isnull().sum())"
   ]
  },
  {
   "cell_type": "code",
   "execution_count": 56,
   "id": "8e3969ca-8888-47d9-a6bf-148c735ce65d",
   "metadata": {},
   "outputs": [],
   "source": [
    "deptext_world.to_csv(\"./Data/Mental_health/Text_analysis/cleaned_GT_depression_map_2020.csv\")"
   ]
  },
  {
   "cell_type": "code",
   "execution_count": 57,
   "id": "0630c9aa-a54b-4680-ae8e-95dae2dbe774",
   "metadata": {},
   "outputs": [
    {
     "data": {
      "text/html": [
       "<div>\n",
       "<style scoped>\n",
       "    .dataframe tbody tr th:only-of-type {\n",
       "        vertical-align: middle;\n",
       "    }\n",
       "\n",
       "    .dataframe tbody tr th {\n",
       "        vertical-align: top;\n",
       "    }\n",
       "\n",
       "    .dataframe thead th {\n",
       "        text-align: right;\n",
       "    }\n",
       "</style>\n",
       "<table border=\"1\" class=\"dataframe\">\n",
       "  <thead>\n",
       "    <tr style=\"text-align: right;\">\n",
       "      <th></th>\n",
       "      <th>Country</th>\n",
       "      <th>depression: (2019)</th>\n",
       "    </tr>\n",
       "  </thead>\n",
       "  <tbody>\n",
       "    <tr>\n",
       "      <th>0</th>\n",
       "      <td>Marshall Islands</td>\n",
       "      <td>NaN</td>\n",
       "    </tr>\n",
       "    <tr>\n",
       "      <th>1</th>\n",
       "      <td>Lesotho</td>\n",
       "      <td>NaN</td>\n",
       "    </tr>\n",
       "    <tr>\n",
       "      <th>2</th>\n",
       "      <td>American Samoa</td>\n",
       "      <td>NaN</td>\n",
       "    </tr>\n",
       "    <tr>\n",
       "      <th>3</th>\n",
       "      <td>Eswatini</td>\n",
       "      <td>NaN</td>\n",
       "    </tr>\n",
       "    <tr>\n",
       "      <th>4</th>\n",
       "      <td>Philippines</td>\n",
       "      <td>100.0</td>\n",
       "    </tr>\n",
       "  </tbody>\n",
       "</table>\n",
       "</div>"
      ],
      "text/plain": [
       "            Country  depression: (2019)\n",
       "0  Marshall Islands                 NaN\n",
       "1           Lesotho                 NaN\n",
       "2    American Samoa                 NaN\n",
       "3          Eswatini                 NaN\n",
       "4       Philippines               100.0"
      ]
     },
     "execution_count": 57,
     "metadata": {},
     "output_type": "execute_result"
    }
   ],
   "source": [
    "deptext_world_2019 = pd.read_csv(\"./Data/Mental_health/Text_analysis/GT_depression_map_2019.csv\")\n",
    "deptext_world_2019.head()"
   ]
  },
  {
   "cell_type": "code",
   "execution_count": 58,
   "id": "5fdf4ce3-08ef-41b5-8b53-64ff69453636",
   "metadata": {},
   "outputs": [
    {
     "name": "stdout",
     "output_type": "stream",
     "text": [
      "Country               0\n",
      "depression: (2019)    0\n",
      "dtype: int64\n"
     ]
    }
   ],
   "source": [
    "deptext_world_2019 = deptext_world_2019.dropna()\n",
    "print(deptext_world_2019.isnull().sum())"
   ]
  },
  {
   "cell_type": "code",
   "execution_count": 59,
   "id": "c65855e6-1d5c-4857-9e78-12c6e8f788e5",
   "metadata": {},
   "outputs": [],
   "source": [
    "deptext_world_2019.to_csv(\"./Data/Mental_health/Text_analysis/cleaned_GT_depression_map_2019.csv\")"
   ]
  },
  {
   "cell_type": "markdown",
   "id": "99b6f3e7-4571-4013-922c-66c194642958",
   "metadata": {},
   "source": [
    "Tableau Plots"
   ]
  },
  {
   "cell_type": "markdown",
   "id": "0468590d-0ba5-4aaa-8bb3-209b07bae8ba",
   "metadata": {},
   "source": [
    "#### COVID-19 vs Suicide Rates"
   ]
  },
  {
   "cell_type": "markdown",
   "id": "b14c86a9-2f1d-4b18-afd5-f192c8549dff",
   "metadata": {},
   "source": [
    "#### Trend in the US"
   ]
  },
  {
   "cell_type": "markdown",
   "id": "0c69fd8d-d8bd-458e-ad97-0f8dc0b04738",
   "metadata": {},
   "source": [
    "Tableau plot"
   ]
  },
  {
   "cell_type": "markdown",
   "id": "f2180947-c7ec-4690-a743-fa843a4006c3",
   "metadata": {},
   "source": [
    "#### Unemployment"
   ]
  },
  {
   "cell_type": "markdown",
   "id": "b96a3c2d-8d02-4165-8a92-991e3a39fa47",
   "metadata": {},
   "source": [
    "Unemployment vs suicide rates across US"
   ]
  },
  {
   "cell_type": "code",
   "execution_count": 60,
   "id": "483b19a1-b99c-4a05-91b8-96a552876a15",
   "metadata": {},
   "outputs": [
    {
     "data": {
      "text/html": [
       "<div>\n",
       "<style scoped>\n",
       "    .dataframe tbody tr th:only-of-type {\n",
       "        vertical-align: middle;\n",
       "    }\n",
       "\n",
       "    .dataframe tbody tr th {\n",
       "        vertical-align: top;\n",
       "    }\n",
       "\n",
       "    .dataframe thead th {\n",
       "        text-align: right;\n",
       "    }\n",
       "</style>\n",
       "<table border=\"1\" class=\"dataframe\">\n",
       "  <thead>\n",
       "    <tr style=\"text-align: right;\">\n",
       "      <th></th>\n",
       "      <th>State</th>\n",
       "      <th>suicideRate</th>\n",
       "      <th>suicideNumber</th>\n",
       "    </tr>\n",
       "  </thead>\n",
       "  <tbody>\n",
       "    <tr>\n",
       "      <th>0</th>\n",
       "      <td>Wyoming</td>\n",
       "      <td>29.3</td>\n",
       "      <td>170</td>\n",
       "    </tr>\n",
       "    <tr>\n",
       "      <th>1</th>\n",
       "      <td>Alaska</td>\n",
       "      <td>28.5</td>\n",
       "      <td>210</td>\n",
       "    </tr>\n",
       "    <tr>\n",
       "      <th>2</th>\n",
       "      <td>Montana</td>\n",
       "      <td>26.2</td>\n",
       "      <td>289</td>\n",
       "    </tr>\n",
       "    <tr>\n",
       "      <th>3</th>\n",
       "      <td>New Mexico</td>\n",
       "      <td>24.0</td>\n",
       "      <td>513</td>\n",
       "    </tr>\n",
       "    <tr>\n",
       "      <th>4</th>\n",
       "      <td>Colorado</td>\n",
       "      <td>22.1</td>\n",
       "      <td>1312</td>\n",
       "    </tr>\n",
       "  </tbody>\n",
       "</table>\n",
       "</div>"
      ],
      "text/plain": [
       "        State  suicideRate  suicideNumber\n",
       "0     Wyoming         29.3            170\n",
       "1      Alaska         28.5            210\n",
       "2     Montana         26.2            289\n",
       "3  New Mexico         24.0            513\n",
       "4    Colorado         22.1           1312"
      ]
     },
     "execution_count": 60,
     "metadata": {},
     "output_type": "execute_result"
    }
   ],
   "source": [
    "suicide_US = pd.read_csv(\"./Data/Suicide/Geographical/us_statewise_suicide.csv\")\n",
    "suicide_US.head()"
   ]
  },
  {
   "cell_type": "code",
   "execution_count": 61,
   "id": "be84ba8c-4ab2-40c4-8fdd-a90417ba196c",
   "metadata": {},
   "outputs": [
    {
     "data": {
      "text/html": [
       "<div>\n",
       "<style scoped>\n",
       "    .dataframe tbody tr th:only-of-type {\n",
       "        vertical-align: middle;\n",
       "    }\n",
       "\n",
       "    .dataframe tbody tr th {\n",
       "        vertical-align: top;\n",
       "    }\n",
       "\n",
       "    .dataframe thead th {\n",
       "        text-align: right;\n",
       "    }\n",
       "</style>\n",
       "<table border=\"1\" class=\"dataframe\">\n",
       "  <thead>\n",
       "    <tr style=\"text-align: right;\">\n",
       "      <th></th>\n",
       "      <th>State</th>\n",
       "      <th>Unemployment rate</th>\n",
       "      <th>Suicide rate</th>\n",
       "    </tr>\n",
       "  </thead>\n",
       "  <tbody>\n",
       "    <tr>\n",
       "      <th>0</th>\n",
       "      <td>Wyoming</td>\n",
       "      <td>NaN</td>\n",
       "      <td>29.3</td>\n",
       "    </tr>\n",
       "    <tr>\n",
       "      <th>1</th>\n",
       "      <td>Alaska</td>\n",
       "      <td>0.036</td>\n",
       "      <td>28.5</td>\n",
       "    </tr>\n",
       "    <tr>\n",
       "      <th>2</th>\n",
       "      <td>Montana</td>\n",
       "      <td>0.038</td>\n",
       "      <td>26.2</td>\n",
       "    </tr>\n",
       "    <tr>\n",
       "      <th>3</th>\n",
       "      <td>New Mexico</td>\n",
       "      <td>0.037</td>\n",
       "      <td>24.0</td>\n",
       "    </tr>\n",
       "    <tr>\n",
       "      <th>4</th>\n",
       "      <td>Colorado</td>\n",
       "      <td>0.039</td>\n",
       "      <td>22.1</td>\n",
       "    </tr>\n",
       "  </tbody>\n",
       "</table>\n",
       "</div>"
      ],
      "text/plain": [
       "        State  Unemployment rate  Suicide rate\n",
       "0     Wyoming                NaN          29.3\n",
       "1      Alaska              0.036          28.5\n",
       "2     Montana              0.038          26.2\n",
       "3  New Mexico              0.037          24.0\n",
       "4    Colorado              0.039          22.1"
      ]
     },
     "execution_count": 61,
     "metadata": {},
     "output_type": "execute_result"
    }
   ],
   "source": [
    "unemp_rate = []\n",
    "suicide_rate = []\n",
    "common_states = []\n",
    "\n",
    "states = suicide_US['State']\n",
    "\n",
    "for s in states:\n",
    "    if(s in unemployment_US['State'].values):\n",
    "        unemp_rate.append(unemployment_US[unemployment_US['State']==s]['unemploymentRate'].item())\n",
    "        suicide_rate.append(suicide_US[suicide_US['State']==s]['suicideRate'].item())\n",
    "        common_states.append(s)\n",
    "\n",
    "unemp_suicide_dict = {'State':common_states,\n",
    "                   'Unemployment rate':unemp_rate,\n",
    "                   'Suicide rate': suicide_rate}\n",
    "\n",
    "unemp_suicide = pd.DataFrame.from_dict(unemp_suicide_dict)\n",
    "unemp_suicide.head()"
   ]
  },
  {
   "cell_type": "code",
   "execution_count": 62,
   "id": "d5570ebe-86db-4f52-a018-251004b1b062",
   "metadata": {},
   "outputs": [
    {
     "name": "stdout",
     "output_type": "stream",
     "text": [
      "State                0\n",
      "Unemployment rate    2\n",
      "Suicide rate         0\n",
      "dtype: int64\n"
     ]
    }
   ],
   "source": [
    "print(unemp_suicide.isnull().sum())"
   ]
  },
  {
   "cell_type": "code",
   "execution_count": 63,
   "id": "60cd7eba-5072-49e1-95fd-e7a52524596a",
   "metadata": {},
   "outputs": [
    {
     "name": "stdout",
     "output_type": "stream",
     "text": [
      "State                0\n",
      "Unemployment rate    0\n",
      "Suicide rate         0\n",
      "dtype: int64\n"
     ]
    }
   ],
   "source": [
    "unemp_suicide = unemp_suicide.dropna()\n",
    "print(unemp_suicide.isnull().sum())"
   ]
  },
  {
   "cell_type": "code",
   "execution_count": 64,
   "id": "cc7e707c-a2f9-4785-ae46-a299ddfc0e36",
   "metadata": {},
   "outputs": [
    {
     "data": {
      "image/png": "[encoded data removed]",
      "text/plain": [
       "<Figure size 720x504 with 1 Axes>"
      ]
     },
     "metadata": {},
     "output_type": "display_data"
    }
   ],
   "source": [
    "ax = sns.scatterplot(x=unemp_suicide['Unemployment rate'],y=unemp_suicide['Suicide rate'])\n",
    "plt.xlabel('Unemployment rate')\n",
    "plt.ylabel('Suicide rate')\n",
    "ax.figure.savefig(\"./Figures/MINE/unemp_suicide.png\")"
   ]
  },
  {
   "cell_type": "code",
   "execution_count": 65,
   "id": "aa42983c-3290-4668-b28c-98074730a7e2",
   "metadata": {},
   "outputs": [
    {
     "name": "stdout",
     "output_type": "stream",
     "text": [
      "0.10574623728646348 0.4744058480353834\n"
     ]
    }
   ],
   "source": [
    "r,p = scipy.stats.pearsonr(unemp_suicide['Unemployment rate'], unemp_suicide['Suicide rate'])\n",
    "print(r,p)"
   ]
  },
  {
   "cell_type": "markdown",
   "id": "381061af-799e-4db1-a34c-19d7c12e280b",
   "metadata": {},
   "source": [
    "Positive weak correlation (since r value is between 0 and 0.3) and it is statistically insignificant (p value > 0.05)"
   ]
  },
  {
   "cell_type": "markdown",
   "id": "50ff9b6d-c6c4-45b0-be99-08f637c868e4",
   "metadata": {},
   "source": [
    "#### Google Search Trends Analysis"
   ]
  },
  {
   "cell_type": "markdown",
   "id": "3f9cf77a-e0f3-4b6e-bcdb-fc9314107c01",
   "metadata": {},
   "source": [
    "Tableau plots"
   ]
  },
  {
   "cell_type": "markdown",
   "id": "6df9865a-09bb-4532-8bde-f20b43884ba0",
   "metadata": {},
   "source": [
    "#### COVID-19 vs Substance Abuse"
   ]
  },
  {
   "cell_type": "markdown",
   "id": "387c17de-4e46-44f7-b8e3-08cd20e37369",
   "metadata": {},
   "source": [
    "#### Trend in the US"
   ]
  },
  {
   "cell_type": "markdown",
   "id": "8da086d0-e58f-4365-a9df-1b20d823bfcc",
   "metadata": {},
   "source": [
    "Tableau plot"
   ]
  },
  {
   "cell_type": "markdown",
   "id": "87b00a75-335a-4842-bda0-ae94fc77ea52",
   "metadata": {},
   "source": [
    "#### Unemployment"
   ]
  },
  {
   "cell_type": "markdown",
   "id": "f6046ab8-fd29-4310-b9b4-b0fb3b03fdfa",
   "metadata": {},
   "source": [
    "Unemployment vs drug overdose"
   ]
  },
  {
   "cell_type": "code",
   "execution_count": 66,
   "id": "84e57acd-2ff9-4e2e-8dfa-3e3eead82d3c",
   "metadata": {},
   "outputs": [
    {
     "data": {
      "text/html": [
       "<div>\n",
       "<style scoped>\n",
       "    .dataframe tbody tr th:only-of-type {\n",
       "        vertical-align: middle;\n",
       "    }\n",
       "\n",
       "    .dataframe tbody tr th {\n",
       "        vertical-align: top;\n",
       "    }\n",
       "\n",
       "    .dataframe thead th {\n",
       "        text-align: right;\n",
       "    }\n",
       "</style>\n",
       "<table border=\"1\" class=\"dataframe\">\n",
       "  <thead>\n",
       "    <tr style=\"text-align: right;\">\n",
       "      <th></th>\n",
       "      <th>Location</th>\n",
       "      <th>Overdose Deaths</th>\n",
       "      <th>All  Deaths</th>\n",
       "      <th>Overdose Deaths as a Percent of All Deaths</th>\n",
       "    </tr>\n",
       "  </thead>\n",
       "  <tbody>\n",
       "    <tr>\n",
       "      <th>0</th>\n",
       "      <td>Alabama</td>\n",
       "      <td>1,009</td>\n",
       "      <td>63,362</td>\n",
       "      <td>0.016</td>\n",
       "    </tr>\n",
       "    <tr>\n",
       "      <th>1</th>\n",
       "      <td>Alaska</td>\n",
       "      <td>146</td>\n",
       "      <td>5,008</td>\n",
       "      <td>0.029</td>\n",
       "    </tr>\n",
       "    <tr>\n",
       "      <th>2</th>\n",
       "      <td>Arizona</td>\n",
       "      <td>2,660</td>\n",
       "      <td>77,089</td>\n",
       "      <td>0.035</td>\n",
       "    </tr>\n",
       "    <tr>\n",
       "      <th>3</th>\n",
       "      <td>Arkansas</td>\n",
       "      <td>515</td>\n",
       "      <td>37,820</td>\n",
       "      <td>0.014</td>\n",
       "    </tr>\n",
       "    <tr>\n",
       "      <th>4</th>\n",
       "      <td>California</td>\n",
       "      <td>9,538</td>\n",
       "      <td>320,753</td>\n",
       "      <td>0.030</td>\n",
       "    </tr>\n",
       "  </tbody>\n",
       "</table>\n",
       "</div>"
      ],
      "text/plain": [
       "     Location Overdose Deaths All  Deaths  \\\n",
       "0     Alabama           1,009      63,362   \n",
       "1      Alaska             146       5,008   \n",
       "2     Arizona           2,660      77,089   \n",
       "3    Arkansas             515      37,820   \n",
       "4  California           9,538     320,753   \n",
       "\n",
       "   Overdose Deaths as a Percent of All Deaths  \n",
       "0                                       0.016  \n",
       "1                                       0.029  \n",
       "2                                       0.035  \n",
       "3                                       0.014  \n",
       "4                                       0.030  "
      ]
     },
     "execution_count": 66,
     "metadata": {},
     "output_type": "execute_result"
    }
   ],
   "source": [
    "drugs_US = pd.read_csv(\"./Data/Substance_abuse/Geographical/us_statewise_drug_overdose.csv\")\n",
    "drugs_US.head()"
   ]
  },
  {
   "cell_type": "code",
   "execution_count": 67,
   "id": "c5822b76-ec8f-4c5d-a376-3771a61efcdc",
   "metadata": {},
   "outputs": [
    {
     "data": {
      "text/html": [
       "<div>\n",
       "<style scoped>\n",
       "    .dataframe tbody tr th:only-of-type {\n",
       "        vertical-align: middle;\n",
       "    }\n",
       "\n",
       "    .dataframe tbody tr th {\n",
       "        vertical-align: top;\n",
       "    }\n",
       "\n",
       "    .dataframe thead th {\n",
       "        text-align: right;\n",
       "    }\n",
       "</style>\n",
       "<table border=\"1\" class=\"dataframe\">\n",
       "  <thead>\n",
       "    <tr style=\"text-align: right;\">\n",
       "      <th></th>\n",
       "      <th>State</th>\n",
       "      <th>Unemployment rate</th>\n",
       "      <th>Drug Overdose rate</th>\n",
       "    </tr>\n",
       "  </thead>\n",
       "  <tbody>\n",
       "    <tr>\n",
       "      <th>0</th>\n",
       "      <td>Alabama</td>\n",
       "      <td>0.046</td>\n",
       "      <td>29.3</td>\n",
       "    </tr>\n",
       "    <tr>\n",
       "      <th>1</th>\n",
       "      <td>Alaska</td>\n",
       "      <td>0.036</td>\n",
       "      <td>28.5</td>\n",
       "    </tr>\n",
       "    <tr>\n",
       "      <th>2</th>\n",
       "      <td>Arizona</td>\n",
       "      <td>0.039</td>\n",
       "      <td>26.2</td>\n",
       "    </tr>\n",
       "    <tr>\n",
       "      <th>3</th>\n",
       "      <td>Arkansas</td>\n",
       "      <td>0.025</td>\n",
       "      <td>24.0</td>\n",
       "    </tr>\n",
       "    <tr>\n",
       "      <th>4</th>\n",
       "      <td>California</td>\n",
       "      <td>0.037</td>\n",
       "      <td>22.1</td>\n",
       "    </tr>\n",
       "  </tbody>\n",
       "</table>\n",
       "</div>"
      ],
      "text/plain": [
       "        State  Unemployment rate  Drug Overdose rate\n",
       "0     Alabama              0.046                29.3\n",
       "1      Alaska              0.036                28.5\n",
       "2     Arizona              0.039                26.2\n",
       "3    Arkansas              0.025                24.0\n",
       "4  California              0.037                22.1"
      ]
     },
     "execution_count": 67,
     "metadata": {},
     "output_type": "execute_result"
    }
   ],
   "source": [
    "unemp_rate = []\n",
    "drugs_rate = []\n",
    "common_states = []\n",
    "\n",
    "states = drugs_US['Location']\n",
    "\n",
    "for s in states:\n",
    "    if(s in unemployment_US['State'].values):\n",
    "        unemp_rate.append(unemployment_US[unemployment_US['State']==s]['unemploymentRate'].item())\n",
    "        drugs_rate.append(drugs_US[drugs_US['Location']==s]['Overdose Deaths as a Percent of All Deaths'].item())\n",
    "        common_states.append(s)\n",
    "\n",
    "unemp_drugs_dict = {'State':common_states,\n",
    "                   'Unemployment rate':unemp_rate,\n",
    "                   'Drug Overdose rate': suicide_rate}\n",
    "\n",
    "unemp_drugs = pd.DataFrame.from_dict(unemp_drugs_dict)\n",
    "unemp_drugs.head()"
   ]
  },
  {
   "cell_type": "code",
   "execution_count": 68,
   "id": "4ae2f8af-6d75-40c3-9e23-4573315f41ea",
   "metadata": {},
   "outputs": [
    {
     "name": "stdout",
     "output_type": "stream",
     "text": [
      "State                 0\n",
      "Unemployment rate     2\n",
      "Drug Overdose rate    0\n",
      "dtype: int64\n"
     ]
    }
   ],
   "source": [
    "print(unemp_drugs.isnull().sum())"
   ]
  },
  {
   "cell_type": "code",
   "execution_count": 69,
   "id": "28f9271c-8f20-475d-9a1e-6a4b86cbd217",
   "metadata": {},
   "outputs": [
    {
     "name": "stdout",
     "output_type": "stream",
     "text": [
      "State                 0\n",
      "Unemployment rate     0\n",
      "Drug Overdose rate    0\n",
      "dtype: int64\n"
     ]
    }
   ],
   "source": [
    "unemp_drugs = unemp_drugs.dropna()\n",
    "print(unemp_drugs.isnull().sum())"
   ]
  },
  {
   "cell_type": "code",
   "execution_count": 70,
   "id": "604b5ba5-945c-4ef1-9fae-0438b8ca8a2f",
   "metadata": {},
   "outputs": [
    {
     "data": {
      "image/png": "[encoded data removed]",
      "text/plain": [
       "<Figure size 720x504 with 1 Axes>"
      ]
     },
     "metadata": {},
     "output_type": "display_data"
    }
   ],
   "source": [
    "ax = sns.scatterplot(x=unemp_drugs['Unemployment rate'],y=unemp_drugs['Drug Overdose rate'])\n",
    "plt.title('Unemployment vs Drug Overdose Rate across US')\n",
    "plt.xlabel('Unemployment rate')\n",
    "plt.ylabel('Drug Overdose rate')\n",
    "ax.figure.savefig(\"./Figures/unemp_drugs.png\")"
   ]
  },
  {
   "cell_type": "code",
   "execution_count": 71,
   "id": "bb9f2984-be07-4c63-beb7-ad0b45dfed8e",
   "metadata": {},
   "outputs": [
    {
     "name": "stdout",
     "output_type": "stream",
     "text": [
      "0.0547797085315372 0.7115325107908888\n"
     ]
    }
   ],
   "source": [
    "r,p = scipy.stats.pearsonr(unemp_drugs['Unemployment rate'], unemp_drugs['Drug Overdose rate'])\n",
    "print(r,p)"
   ]
  },
  {
   "cell_type": "markdown",
   "id": "a148171e-130f-4863-b41f-b42defb7aac9",
   "metadata": {},
   "source": [
    "Positive weak correlation (since r value is between 0 and 0.3) and it is statistically insignificant (p value > 0.05)"
   ]
  },
  {
   "cell_type": "markdown",
   "id": "66fa80bd-20d3-4732-920a-58c481d30407",
   "metadata": {},
   "source": [
    "Drug overdose vs suicide rate"
   ]
  },
  {
   "cell_type": "code",
   "execution_count": 72,
   "id": "309b33ce-ceb9-4e4b-a06b-a9ef81ce472b",
   "metadata": {},
   "outputs": [
    {
     "data": {
      "text/html": [
       "<div>\n",
       "<style scoped>\n",
       "    .dataframe tbody tr th:only-of-type {\n",
       "        vertical-align: middle;\n",
       "    }\n",
       "\n",
       "    .dataframe tbody tr th {\n",
       "        vertical-align: top;\n",
       "    }\n",
       "\n",
       "    .dataframe thead th {\n",
       "        text-align: right;\n",
       "    }\n",
       "</style>\n",
       "<table border=\"1\" class=\"dataframe\">\n",
       "  <thead>\n",
       "    <tr style=\"text-align: right;\">\n",
       "      <th></th>\n",
       "      <th>State</th>\n",
       "      <th>Suicide rate</th>\n",
       "      <th>Drug Overdose rate</th>\n",
       "    </tr>\n",
       "  </thead>\n",
       "  <tbody>\n",
       "    <tr>\n",
       "      <th>0</th>\n",
       "      <td>Alabama</td>\n",
       "      <td>16.3</td>\n",
       "      <td>16.3</td>\n",
       "    </tr>\n",
       "    <tr>\n",
       "      <th>1</th>\n",
       "      <td>Alaska</td>\n",
       "      <td>28.5</td>\n",
       "      <td>28.5</td>\n",
       "    </tr>\n",
       "    <tr>\n",
       "      <th>2</th>\n",
       "      <td>Arizona</td>\n",
       "      <td>18.7</td>\n",
       "      <td>18.7</td>\n",
       "    </tr>\n",
       "    <tr>\n",
       "      <th>3</th>\n",
       "      <td>Arkansas</td>\n",
       "      <td>18.0</td>\n",
       "      <td>18.0</td>\n",
       "    </tr>\n",
       "    <tr>\n",
       "      <th>4</th>\n",
       "      <td>California</td>\n",
       "      <td>10.7</td>\n",
       "      <td>10.7</td>\n",
       "    </tr>\n",
       "  </tbody>\n",
       "</table>\n",
       "</div>"
      ],
      "text/plain": [
       "        State  Suicide rate  Drug Overdose rate\n",
       "0     Alabama          16.3                16.3\n",
       "1      Alaska          28.5                28.5\n",
       "2     Arizona          18.7                18.7\n",
       "3    Arkansas          18.0                18.0\n",
       "4  California          10.7                10.7"
      ]
     },
     "execution_count": 72,
     "metadata": {},
     "output_type": "execute_result"
    }
   ],
   "source": [
    "suicide_rate = []\n",
    "drugs_rate = []\n",
    "common_states = []\n",
    "\n",
    "states = drugs_US['Location']\n",
    "\n",
    "for s in states:\n",
    "    if(s in suicide_US['State'].values):\n",
    "        suicide_rate.append(suicide_US[suicide_US['State']==s]['suicideRate'].item())\n",
    "        drugs_rate.append(drugs_US[drugs_US['Location']==s]['Overdose Deaths as a Percent of All Deaths'].item())\n",
    "        common_states.append(s)\n",
    "\n",
    "suicide_drugs_dict = {'State':common_states,\n",
    "                   'Suicide rate':suicide_rate,\n",
    "                   'Drug Overdose rate': suicide_rate}\n",
    "\n",
    "suicide_drugs = pd.DataFrame.from_dict(suicide_drugs_dict)\n",
    "suicide_drugs.head()"
   ]
  },
  {
   "cell_type": "code",
   "execution_count": 73,
   "id": "ee77410b-1bb6-421c-8060-1b45aca3007a",
   "metadata": {},
   "outputs": [
    {
     "name": "stdout",
     "output_type": "stream",
     "text": [
      "State                 0\n",
      "Suicide rate          0\n",
      "Drug Overdose rate    0\n",
      "dtype: int64\n"
     ]
    }
   ],
   "source": [
    "print(suicide_drugs.isnull().sum())"
   ]
  },
  {
   "cell_type": "code",
   "execution_count": 74,
   "id": "ece32eb9-3774-4320-87a8-fa86ad5911c1",
   "metadata": {},
   "outputs": [
    {
     "data": {
      "image/png": "[encoded data removed]",
      "text/plain": [
       "<Figure size 720x504 with 1 Axes>"
      ]
     },
     "metadata": {},
     "output_type": "display_data"
    }
   ],
   "source": [
    "ax = sns.scatterplot(x=suicide_drugs['Suicide rate'],y=suicide_drugs['Drug Overdose rate'])\n",
    "plt.title('Suicide vs Drug Overdose rate across US')\n",
    "plt.xlabel('Suicide rate')\n",
    "plt.ylabel('Drug Overdose rate')\n",
    "ax.figure.savefig(\"./Figures/suicide_drugs.png\")"
   ]
  },
  {
   "cell_type": "code",
   "execution_count": 75,
   "id": "5ebf8ceb-37d4-4a09-803b-1486cc42376f",
   "metadata": {},
   "outputs": [
    {
     "name": "stdout",
     "output_type": "stream",
     "text": [
      "0.9999999999999998 0.0\n"
     ]
    }
   ],
   "source": [
    "r,p = scipy.stats.pearsonr(suicide_drugs['Suicide rate'], suicide_drugs['Drug Overdose rate'])\n",
    "print(r,p)"
   ]
  },
  {
   "cell_type": "markdown",
   "id": "ff407cfe-a146-4597-bfc2-0eb63e54cb00",
   "metadata": {},
   "source": [
    "Positive Strong correlation (since r value is between 0.7 and 1.0) and it is statistically significant (p value < 0.05)"
   ]
  },
  {
   "cell_type": "markdown",
   "id": "1b9c6bee-1e8e-4acb-849d-1ad9ce42a307",
   "metadata": {},
   "source": [
    "#### Google Search Trends Analysis"
   ]
  },
  {
   "cell_type": "markdown",
   "id": "8cea4b18-4c00-4224-aaf5-9b2af25ef8be",
   "metadata": {},
   "source": [
    "Tableau plots"
   ]
  },
  {
   "cell_type": "markdown",
   "id": "9ed57b1f-7ef1-4c78-b846-3cd1efc5efdc",
   "metadata": {},
   "source": [
    "#### Statistical Analysis - Wilcoxon test"
   ]
  },
  {
   "cell_type": "markdown",
   "id": "6f4d0654-282b-44da-bc0c-a84ca8a93c9f",
   "metadata": {},
   "source": [
    "Depression rates before and during covid"
   ]
  },
  {
   "cell_type": "code",
   "execution_count": 76,
   "id": "1610c79d-1990-40fc-8f48-2fafacbae39c",
   "metadata": {},
   "outputs": [
    {
     "data": {
      "text/html": [
       "<div>\n",
       "<style scoped>\n",
       "    .dataframe tbody tr th:only-of-type {\n",
       "        vertical-align: middle;\n",
       "    }\n",
       "\n",
       "    .dataframe tbody tr th {\n",
       "        vertical-align: top;\n",
       "    }\n",
       "\n",
       "    .dataframe thead th {\n",
       "        text-align: right;\n",
       "    }\n",
       "</style>\n",
       "<table border=\"1\" class=\"dataframe\">\n",
       "  <thead>\n",
       "    <tr style=\"text-align: right;\">\n",
       "      <th></th>\n",
       "      <th>Test_Statistic</th>\n",
       "      <th>p-value</th>\n",
       "    </tr>\n",
       "  </thead>\n",
       "  <tbody>\n",
       "    <tr>\n",
       "      <th>0</th>\n",
       "      <td>-5.771771</td>\n",
       "      <td>7.844266e-09</td>\n",
       "    </tr>\n",
       "  </tbody>\n",
       "</table>\n",
       "</div>"
      ],
      "text/plain": [
       "   Test_Statistic       p-value\n",
       "0       -5.771771  7.844266e-09"
      ]
     },
     "execution_count": 76,
     "metadata": {},
     "output_type": "execute_result"
    }
   ],
   "source": [
    "wil = [stats.ranksums(comp_depr['Before covid rate'],comp_depr['During covid rate'])]\n",
    "wil_values=pd.DataFrame(data=wil,columns=[\"Test_Statistic\",\"p-value\"])\n",
    "wil_values"
   ]
  },
  {
   "cell_type": "markdown",
   "id": "7eb5ceb6-13c5-4038-917e-57842c13a1f1",
   "metadata": {},
   "source": [
    "p-value < 0.05. Hence, significant difference."
   ]
  },
  {
   "cell_type": "markdown",
   "id": "94f784ec-a9a5-4b8d-ad7d-b46b427a3d62",
   "metadata": {},
   "source": [
    "Depression text search before and during covid"
   ]
  },
  {
   "cell_type": "code",
   "execution_count": 77,
   "id": "9c5d9a0e-5f31-4f89-a2e1-a6433d59fbd9",
   "metadata": {},
   "outputs": [
    {
     "data": {
      "text/html": [
       "<div>\n",
       "<style scoped>\n",
       "    .dataframe tbody tr th:only-of-type {\n",
       "        vertical-align: middle;\n",
       "    }\n",
       "\n",
       "    .dataframe tbody tr th {\n",
       "        vertical-align: top;\n",
       "    }\n",
       "\n",
       "    .dataframe thead th {\n",
       "        text-align: right;\n",
       "    }\n",
       "</style>\n",
       "<table border=\"1\" class=\"dataframe\">\n",
       "  <thead>\n",
       "    <tr style=\"text-align: right;\">\n",
       "      <th></th>\n",
       "      <th>Test_Statistic</th>\n",
       "      <th>p-value</th>\n",
       "    </tr>\n",
       "  </thead>\n",
       "  <tbody>\n",
       "    <tr>\n",
       "      <th>0</th>\n",
       "      <td>-0.495984</td>\n",
       "      <td>0.619906</td>\n",
       "    </tr>\n",
       "  </tbody>\n",
       "</table>\n",
       "</div>"
      ],
      "text/plain": [
       "   Test_Statistic   p-value\n",
       "0       -0.495984  0.619906"
      ]
     },
     "execution_count": 77,
     "metadata": {},
     "output_type": "execute_result"
    }
   ],
   "source": [
    "wil = [stats.ranksums(deptext_world_2019['depression: (2019)'],deptext_world['depression: (2020)'])]\n",
    "wil_values=pd.DataFrame(data=wil,columns=[\"Test_Statistic\",\"p-value\"])\n",
    "wil_values"
   ]
  },
  {
   "cell_type": "markdown",
   "id": "c62950e5-f7ab-4af2-84ec-cc31e698ba02",
   "metadata": {},
   "source": [
    "No significant difference but 2020 is greater since test_statistic is negative"
   ]
  },
  {
   "cell_type": "markdown",
   "id": "5be0430f-b2d6-4cc9-986a-47913716a69c",
   "metadata": {},
   "source": [
    "Suicide rate vs Drug overdose during the pandemic"
   ]
  },
  {
   "cell_type": "code",
   "execution_count": 78,
   "id": "6b893791-86da-49f0-b05b-f6e3ca51a53a",
   "metadata": {},
   "outputs": [
    {
     "data": {
      "text/html": [
       "<div>\n",
       "<style scoped>\n",
       "    .dataframe tbody tr th:only-of-type {\n",
       "        vertical-align: middle;\n",
       "    }\n",
       "\n",
       "    .dataframe tbody tr th {\n",
       "        vertical-align: top;\n",
       "    }\n",
       "\n",
       "    .dataframe thead th {\n",
       "        text-align: right;\n",
       "    }\n",
       "</style>\n",
       "<table border=\"1\" class=\"dataframe\">\n",
       "  <thead>\n",
       "    <tr style=\"text-align: right;\">\n",
       "      <th></th>\n",
       "      <th>Test_Statistic</th>\n",
       "      <th>p-value</th>\n",
       "    </tr>\n",
       "  </thead>\n",
       "  <tbody>\n",
       "    <tr>\n",
       "      <th>0</th>\n",
       "      <td>0.0</td>\n",
       "      <td>1.0</td>\n",
       "    </tr>\n",
       "  </tbody>\n",
       "</table>\n",
       "</div>"
      ],
      "text/plain": [
       "   Test_Statistic  p-value\n",
       "0             0.0      1.0"
      ]
     },
     "execution_count": 78,
     "metadata": {},
     "output_type": "execute_result"
    }
   ],
   "source": [
    "wil = [stats.ranksums(suicide_drugs['Suicide rate'],suicide_drugs['Drug Overdose rate'])]\n",
    "wil_values=pd.DataFrame(data=wil,columns=[\"Test_Statistic\",\"p-value\"])\n",
    "wil_values"
   ]
  },
  {
   "cell_type": "markdown",
   "id": "28e68f5d-6c68-41a0-9aa1-64da02b91acc",
   "metadata": {},
   "source": [
    "p>0.05. Hence, no significant difference."
   ]
  },
  {
   "cell_type": "markdown",
   "id": "c1e007a0-c316-41ad-8ec1-d6578efc3051",
   "metadata": {},
   "source": [
    "Depression rates between males and females before and during pandemic"
   ]
  },
  {
   "cell_type": "code",
   "execution_count": 79,
   "id": "b6890165-b679-4620-874e-186ba16424f7",
   "metadata": {},
   "outputs": [
    {
     "data": {
      "text/html": [
       "<div>\n",
       "<style scoped>\n",
       "    .dataframe tbody tr th:only-of-type {\n",
       "        vertical-align: middle;\n",
       "    }\n",
       "\n",
       "    .dataframe tbody tr th {\n",
       "        vertical-align: top;\n",
       "    }\n",
       "\n",
       "    .dataframe thead th {\n",
       "        text-align: right;\n",
       "    }\n",
       "</style>\n",
       "<table border=\"1\" class=\"dataframe\">\n",
       "  <thead>\n",
       "    <tr style=\"text-align: right;\">\n",
       "      <th></th>\n",
       "      <th>Entity</th>\n",
       "      <th>Code</th>\n",
       "      <th>Year</th>\n",
       "      <th>Prevalence - Depressive disorders - Sex: Male - Age: Age-standardized (Percent)</th>\n",
       "      <th>Prevalence - Depressive disorders - Sex: Female - Age: Age-standardized (Percent)</th>\n",
       "      <th>Population (historical estimates)</th>\n",
       "      <th>Continent</th>\n",
       "    </tr>\n",
       "  </thead>\n",
       "  <tbody>\n",
       "    <tr>\n",
       "      <th>0</th>\n",
       "      <td>Abkhazia</td>\n",
       "      <td>OWID_ABK</td>\n",
       "      <td>2015</td>\n",
       "      <td>NaN</td>\n",
       "      <td>NaN</td>\n",
       "      <td>NaN</td>\n",
       "      <td>Asia</td>\n",
       "    </tr>\n",
       "    <tr>\n",
       "      <th>1</th>\n",
       "      <td>Afghanistan</td>\n",
       "      <td>AFG</td>\n",
       "      <td>1990</td>\n",
       "      <td>4.291054</td>\n",
       "      <td>5.859656</td>\n",
       "      <td>12412311.0</td>\n",
       "      <td>NaN</td>\n",
       "    </tr>\n",
       "    <tr>\n",
       "      <th>2</th>\n",
       "      <td>Afghanistan</td>\n",
       "      <td>AFG</td>\n",
       "      <td>1991</td>\n",
       "      <td>4.293268</td>\n",
       "      <td>5.853078</td>\n",
       "      <td>13299016.0</td>\n",
       "      <td>NaN</td>\n",
       "    </tr>\n",
       "    <tr>\n",
       "      <th>3</th>\n",
       "      <td>Afghanistan</td>\n",
       "      <td>AFG</td>\n",
       "      <td>1992</td>\n",
       "      <td>4.298265</td>\n",
       "      <td>5.850020</td>\n",
       "      <td>14485543.0</td>\n",
       "      <td>NaN</td>\n",
       "    </tr>\n",
       "    <tr>\n",
       "      <th>4</th>\n",
       "      <td>Afghanistan</td>\n",
       "      <td>AFG</td>\n",
       "      <td>1993</td>\n",
       "      <td>4.303087</td>\n",
       "      <td>5.844987</td>\n",
       "      <td>15816601.0</td>\n",
       "      <td>NaN</td>\n",
       "    </tr>\n",
       "  </tbody>\n",
       "</table>\n",
       "</div>"
      ],
      "text/plain": [
       "        Entity      Code  Year  \\\n",
       "0     Abkhazia  OWID_ABK  2015   \n",
       "1  Afghanistan       AFG  1990   \n",
       "2  Afghanistan       AFG  1991   \n",
       "3  Afghanistan       AFG  1992   \n",
       "4  Afghanistan       AFG  1993   \n",
       "\n",
       "   Prevalence - Depressive disorders - Sex: Male - Age: Age-standardized (Percent)  \\\n",
       "0                                                NaN                                 \n",
       "1                                           4.291054                                 \n",
       "2                                           4.293268                                 \n",
       "3                                           4.298265                                 \n",
       "4                                           4.303087                                 \n",
       "\n",
       "   Prevalence - Depressive disorders - Sex: Female - Age: Age-standardized (Percent)  \\\n",
       "0                                                NaN                                   \n",
       "1                                           5.859656                                   \n",
       "2                                           5.853078                                   \n",
       "3                                           5.850020                                   \n",
       "4                                           5.844987                                   \n",
       "\n",
       "   Population (historical estimates) Continent  \n",
       "0                                NaN      Asia  \n",
       "1                         12412311.0       NaN  \n",
       "2                         13299016.0       NaN  \n",
       "3                         14485543.0       NaN  \n",
       "4                         15816601.0       NaN  "
      ]
     },
     "execution_count": 79,
     "metadata": {},
     "output_type": "execute_result"
    }
   ],
   "source": [
    "gender_before = pd.read_csv(\"./Data/Mental_health/Gender/prevalence-of-depression-males-vs-females_beforeCOVID.csv\")\n",
    "gender_before.head()"
   ]
  },
  {
   "cell_type": "code",
   "execution_count": 80,
   "id": "7dc87635-7763-40db-bde3-11ecb7b7e380",
   "metadata": {},
   "outputs": [],
   "source": [
    "gender_before.drop('Code', axis=1, inplace=True)\n",
    "gender_before.drop('Population (historical estimates)', axis=1, inplace=True)\n",
    "gender_before.drop('Continent', axis=1, inplace=True)"
   ]
  },
  {
   "cell_type": "code",
   "execution_count": 81,
   "id": "5985788f-1181-412b-8bb1-ddc5136f0791",
   "metadata": {},
   "outputs": [
    {
     "data": {
      "text/html": [
       "<div>\n",
       "<style scoped>\n",
       "    .dataframe tbody tr th:only-of-type {\n",
       "        vertical-align: middle;\n",
       "    }\n",
       "\n",
       "    .dataframe tbody tr th {\n",
       "        vertical-align: top;\n",
       "    }\n",
       "\n",
       "    .dataframe thead th {\n",
       "        text-align: right;\n",
       "    }\n",
       "</style>\n",
       "<table border=\"1\" class=\"dataframe\">\n",
       "  <thead>\n",
       "    <tr style=\"text-align: right;\">\n",
       "      <th></th>\n",
       "      <th>Entity</th>\n",
       "      <th>Year</th>\n",
       "      <th>Prevalence - Depressive disorders - Sex: Male - Age: Age-standardized (Percent)</th>\n",
       "      <th>Prevalence - Depressive disorders - Sex: Female - Age: Age-standardized (Percent)</th>\n",
       "    </tr>\n",
       "  </thead>\n",
       "  <tbody>\n",
       "    <tr>\n",
       "      <th>0</th>\n",
       "      <td>Abkhazia</td>\n",
       "      <td>2015</td>\n",
       "      <td>NaN</td>\n",
       "      <td>NaN</td>\n",
       "    </tr>\n",
       "    <tr>\n",
       "      <th>1</th>\n",
       "      <td>Afghanistan</td>\n",
       "      <td>1990</td>\n",
       "      <td>4.291054</td>\n",
       "      <td>5.859656</td>\n",
       "    </tr>\n",
       "    <tr>\n",
       "      <th>2</th>\n",
       "      <td>Afghanistan</td>\n",
       "      <td>1991</td>\n",
       "      <td>4.293268</td>\n",
       "      <td>5.853078</td>\n",
       "    </tr>\n",
       "    <tr>\n",
       "      <th>3</th>\n",
       "      <td>Afghanistan</td>\n",
       "      <td>1992</td>\n",
       "      <td>4.298265</td>\n",
       "      <td>5.850020</td>\n",
       "    </tr>\n",
       "    <tr>\n",
       "      <th>4</th>\n",
       "      <td>Afghanistan</td>\n",
       "      <td>1993</td>\n",
       "      <td>4.303087</td>\n",
       "      <td>5.844987</td>\n",
       "    </tr>\n",
       "  </tbody>\n",
       "</table>\n",
       "</div>"
      ],
      "text/plain": [
       "        Entity  Year  \\\n",
       "0     Abkhazia  2015   \n",
       "1  Afghanistan  1990   \n",
       "2  Afghanistan  1991   \n",
       "3  Afghanistan  1992   \n",
       "4  Afghanistan  1993   \n",
       "\n",
       "   Prevalence - Depressive disorders - Sex: Male - Age: Age-standardized (Percent)  \\\n",
       "0                                                NaN                                 \n",
       "1                                           4.291054                                 \n",
       "2                                           4.293268                                 \n",
       "3                                           4.298265                                 \n",
       "4                                           4.303087                                 \n",
       "\n",
       "   Prevalence - Depressive disorders - Sex: Female - Age: Age-standardized (Percent)  \n",
       "0                                                NaN                                  \n",
       "1                                           5.859656                                  \n",
       "2                                           5.853078                                  \n",
       "3                                           5.850020                                  \n",
       "4                                           5.844987                                  "
      ]
     },
     "execution_count": 81,
     "metadata": {},
     "output_type": "execute_result"
    }
   ],
   "source": [
    "gender_before.head()"
   ]
  },
  {
   "cell_type": "code",
   "execution_count": 82,
   "id": "19eccde8-6a5c-484a-9fa5-6faf68d38b4b",
   "metadata": {},
   "outputs": [
    {
     "name": "stdout",
     "output_type": "stream",
     "text": [
      "Entity                                                                                   0\n",
      "Year                                                                                     0\n",
      "Prevalence - Depressive disorders - Sex: Male - Age: Age-standardized (Percent)      49405\n",
      "Prevalence - Depressive disorders - Sex: Female - Age: Age-standardized (Percent)    49405\n",
      "dtype: int64\n"
     ]
    }
   ],
   "source": [
    "print(gender_before.isnull().sum())"
   ]
  },
  {
   "cell_type": "code",
   "execution_count": 83,
   "id": "53a1a7bf-6aab-4658-a38b-59dbedd2310f",
   "metadata": {},
   "outputs": [
    {
     "name": "stdout",
     "output_type": "stream",
     "text": [
      "Entity                                                                               0\n",
      "Year                                                                                 0\n",
      "Prevalence - Depressive disorders - Sex: Male - Age: Age-standardized (Percent)      0\n",
      "Prevalence - Depressive disorders - Sex: Female - Age: Age-standardized (Percent)    0\n",
      "dtype: int64\n"
     ]
    }
   ],
   "source": [
    "gender_before = gender_before.dropna()\n",
    "print(gender_before.isnull().sum())"
   ]
  },
  {
   "cell_type": "code",
   "execution_count": 84,
   "id": "bcd16f5f-d1c8-4671-82e5-d166e71bb932",
   "metadata": {},
   "outputs": [
    {
     "data": {
      "text/html": [
       "<div>\n",
       "<style scoped>\n",
       "    .dataframe tbody tr th:only-of-type {\n",
       "        vertical-align: middle;\n",
       "    }\n",
       "\n",
       "    .dataframe tbody tr th {\n",
       "        vertical-align: top;\n",
       "    }\n",
       "\n",
       "    .dataframe thead th {\n",
       "        text-align: right;\n",
       "    }\n",
       "</style>\n",
       "<table border=\"1\" class=\"dataframe\">\n",
       "  <thead>\n",
       "    <tr style=\"text-align: right;\">\n",
       "      <th></th>\n",
       "      <th>Entity</th>\n",
       "      <th>Year</th>\n",
       "      <th>Prevalence - Depressive disorders - Sex: Male - Age: Age-standardized (Percent)</th>\n",
       "      <th>Prevalence - Depressive disorders - Sex: Female - Age: Age-standardized (Percent)</th>\n",
       "    </tr>\n",
       "  </thead>\n",
       "  <tbody>\n",
       "    <tr>\n",
       "      <th>1</th>\n",
       "      <td>Afghanistan</td>\n",
       "      <td>1990</td>\n",
       "      <td>4.291054</td>\n",
       "      <td>5.859656</td>\n",
       "    </tr>\n",
       "    <tr>\n",
       "      <th>2</th>\n",
       "      <td>Afghanistan</td>\n",
       "      <td>1991</td>\n",
       "      <td>4.293268</td>\n",
       "      <td>5.853078</td>\n",
       "    </tr>\n",
       "    <tr>\n",
       "      <th>3</th>\n",
       "      <td>Afghanistan</td>\n",
       "      <td>1992</td>\n",
       "      <td>4.298265</td>\n",
       "      <td>5.850020</td>\n",
       "    </tr>\n",
       "    <tr>\n",
       "      <th>4</th>\n",
       "      <td>Afghanistan</td>\n",
       "      <td>1993</td>\n",
       "      <td>4.303087</td>\n",
       "      <td>5.844987</td>\n",
       "    </tr>\n",
       "    <tr>\n",
       "      <th>5</th>\n",
       "      <td>Afghanistan</td>\n",
       "      <td>1994</td>\n",
       "      <td>4.306053</td>\n",
       "      <td>5.843623</td>\n",
       "    </tr>\n",
       "  </tbody>\n",
       "</table>\n",
       "</div>"
      ],
      "text/plain": [
       "        Entity  Year  \\\n",
       "1  Afghanistan  1990   \n",
       "2  Afghanistan  1991   \n",
       "3  Afghanistan  1992   \n",
       "4  Afghanistan  1993   \n",
       "5  Afghanistan  1994   \n",
       "\n",
       "   Prevalence - Depressive disorders - Sex: Male - Age: Age-standardized (Percent)  \\\n",
       "1                                           4.291054                                 \n",
       "2                                           4.293268                                 \n",
       "3                                           4.298265                                 \n",
       "4                                           4.303087                                 \n",
       "5                                           4.306053                                 \n",
       "\n",
       "   Prevalence - Depressive disorders - Sex: Female - Age: Age-standardized (Percent)  \n",
       "1                                           5.859656                                  \n",
       "2                                           5.853078                                  \n",
       "3                                           5.850020                                  \n",
       "4                                           5.844987                                  \n",
       "5                                           5.843623                                  "
      ]
     },
     "execution_count": 84,
     "metadata": {},
     "output_type": "execute_result"
    }
   ],
   "source": [
    "gender_before.head()"
   ]
  },
  {
   "cell_type": "code",
   "execution_count": 85,
   "id": "575407d8-4739-4d68-bda5-5036f8c7439d",
   "metadata": {},
   "outputs": [],
   "source": [
    "male = gender_before.groupby('Entity', as_index=False)['Prevalence - Depressive disorders - Sex: Male - Age: Age-standardized (Percent)'].mean()"
   ]
  },
  {
   "cell_type": "code",
   "execution_count": 86,
   "id": "fd73987e-33d3-438f-8a63-704664fa3f59",
   "metadata": {},
   "outputs": [],
   "source": [
    "female = gender_before.groupby('Entity', as_index=False)['Prevalence - Depressive disorders - Sex: Female - Age: Age-standardized (Percent)'].mean()"
   ]
  },
  {
   "cell_type": "code",
   "execution_count": 87,
   "id": "66fb92ab-b616-44fa-9000-a3699f7fd5cc",
   "metadata": {},
   "outputs": [
    {
     "data": {
      "text/html": [
       "<div>\n",
       "<style scoped>\n",
       "    .dataframe tbody tr th:only-of-type {\n",
       "        vertical-align: middle;\n",
       "    }\n",
       "\n",
       "    .dataframe tbody tr th {\n",
       "        vertical-align: top;\n",
       "    }\n",
       "\n",
       "    .dataframe thead th {\n",
       "        text-align: right;\n",
       "    }\n",
       "</style>\n",
       "<table border=\"1\" class=\"dataframe\">\n",
       "  <thead>\n",
       "    <tr style=\"text-align: right;\">\n",
       "      <th></th>\n",
       "      <th>Entity</th>\n",
       "      <th>Prevalence - Depressive disorders - Sex: Male - Age: Age-standardized (Percent)</th>\n",
       "      <th>Prevalence - Depressive disorders - Sex: Female - Age: Age-standardized (Percent)</th>\n",
       "    </tr>\n",
       "  </thead>\n",
       "  <tbody>\n",
       "    <tr>\n",
       "      <th>0</th>\n",
       "      <td>Afghanistan</td>\n",
       "      <td>4.341899</td>\n",
       "      <td>5.841463</td>\n",
       "    </tr>\n",
       "    <tr>\n",
       "      <th>1</th>\n",
       "      <td>Africa</td>\n",
       "      <td>3.763734</td>\n",
       "      <td>5.476025</td>\n",
       "    </tr>\n",
       "    <tr>\n",
       "      <th>2</th>\n",
       "      <td>African Region</td>\n",
       "      <td>3.836878</td>\n",
       "      <td>5.500272</td>\n",
       "    </tr>\n",
       "    <tr>\n",
       "      <th>3</th>\n",
       "      <td>African Union</td>\n",
       "      <td>3.763734</td>\n",
       "      <td>5.476025</td>\n",
       "    </tr>\n",
       "    <tr>\n",
       "      <th>4</th>\n",
       "      <td>Albania</td>\n",
       "      <td>1.752930</td>\n",
       "      <td>3.388266</td>\n",
       "    </tr>\n",
       "  </tbody>\n",
       "</table>\n",
       "</div>"
      ],
      "text/plain": [
       "           Entity  \\\n",
       "0     Afghanistan   \n",
       "1          Africa   \n",
       "2  African Region   \n",
       "3   African Union   \n",
       "4         Albania   \n",
       "\n",
       "   Prevalence - Depressive disorders - Sex: Male - Age: Age-standardized (Percent)  \\\n",
       "0                                           4.341899                                 \n",
       "1                                           3.763734                                 \n",
       "2                                           3.836878                                 \n",
       "3                                           3.763734                                 \n",
       "4                                           1.752930                                 \n",
       "\n",
       "   Prevalence - Depressive disorders - Sex: Female - Age: Age-standardized (Percent)  \n",
       "0                                           5.841463                                  \n",
       "1                                           5.476025                                  \n",
       "2                                           5.500272                                  \n",
       "3                                           5.476025                                  \n",
       "4                                           3.388266                                  "
      ]
     },
     "execution_count": 87,
     "metadata": {},
     "output_type": "execute_result"
    }
   ],
   "source": [
    "gender_before_covid = pd.merge(left=male, right=female, left_on='Entity', right_on='Entity')\n",
    "gender_before_covid.head()"
   ]
  },
  {
   "cell_type": "markdown",
   "id": "f84cf5dc-4305-4b54-b8d9-8a52fb4c2dbe",
   "metadata": {},
   "source": [
    "Male vs Female before pandemic"
   ]
  },
  {
   "cell_type": "code",
   "execution_count": 88,
   "id": "eea62917-2158-4875-9fa9-64b8c7861e55",
   "metadata": {},
   "outputs": [
    {
     "data": {
      "text/html": [
       "<div>\n",
       "<style scoped>\n",
       "    .dataframe tbody tr th:only-of-type {\n",
       "        vertical-align: middle;\n",
       "    }\n",
       "\n",
       "    .dataframe tbody tr th {\n",
       "        vertical-align: top;\n",
       "    }\n",
       "\n",
       "    .dataframe thead th {\n",
       "        text-align: right;\n",
       "    }\n",
       "</style>\n",
       "<table border=\"1\" class=\"dataframe\">\n",
       "  <thead>\n",
       "    <tr style=\"text-align: right;\">\n",
       "      <th></th>\n",
       "      <th>Test_Statistic</th>\n",
       "      <th>p-value</th>\n",
       "    </tr>\n",
       "  </thead>\n",
       "  <tbody>\n",
       "    <tr>\n",
       "      <th>0</th>\n",
       "      <td>-15.44078</td>\n",
       "      <td>8.704091e-54</td>\n",
       "    </tr>\n",
       "  </tbody>\n",
       "</table>\n",
       "</div>"
      ],
      "text/plain": [
       "   Test_Statistic       p-value\n",
       "0       -15.44078  8.704091e-54"
      ]
     },
     "execution_count": 88,
     "metadata": {},
     "output_type": "execute_result"
    }
   ],
   "source": [
    "wil = [stats.ranksums(gender_before_covid['Prevalence - Depressive disorders - Sex: Male - Age: Age-standardized (Percent)'],\n",
    "                      gender_before_covid['Prevalence - Depressive disorders - Sex: Female - Age: Age-standardized (Percent)'])]\n",
    "wil_values=pd.DataFrame(data=wil,columns=[\"Test_Statistic\",\"p-value\"])\n",
    "wil_values"
   ]
  },
  {
   "cell_type": "markdown",
   "id": "a21f98fc-7041-497d-8ee0-4bcca90fc235",
   "metadata": {},
   "source": [
    "Significant difference - Females more depressed"
   ]
  },
  {
   "cell_type": "markdown",
   "id": "02959e0b-7301-4bf5-b4b1-b1637fa19863",
   "metadata": {},
   "source": [
    "Male vs Female during pandemic in US"
   ]
  },
  {
   "cell_type": "code",
   "execution_count": 89,
   "id": "beceb5c9-47b0-49d0-95f1-c864ab3ccad7",
   "metadata": {},
   "outputs": [
    {
     "data": {
      "text/html": [
       "<div>\n",
       "<style scoped>\n",
       "    .dataframe tbody tr th:only-of-type {\n",
       "        vertical-align: middle;\n",
       "    }\n",
       "\n",
       "    .dataframe tbody tr th {\n",
       "        vertical-align: top;\n",
       "    }\n",
       "\n",
       "    .dataframe thead th {\n",
       "        text-align: right;\n",
       "    }\n",
       "</style>\n",
       "<table border=\"1\" class=\"dataframe\">\n",
       "  <thead>\n",
       "    <tr style=\"text-align: right;\">\n",
       "      <th></th>\n",
       "      <th>Location</th>\n",
       "      <th>All Adults</th>\n",
       "      <th>Male</th>\n",
       "      <th>Female</th>\n",
       "    </tr>\n",
       "  </thead>\n",
       "  <tbody>\n",
       "    <tr>\n",
       "      <th>0</th>\n",
       "      <td>Alabama</td>\n",
       "      <td>0.303</td>\n",
       "      <td>0.252</td>\n",
       "      <td>0.348</td>\n",
       "    </tr>\n",
       "    <tr>\n",
       "      <th>1</th>\n",
       "      <td>Alaska</td>\n",
       "      <td>0.315</td>\n",
       "      <td>0.305</td>\n",
       "      <td>0.326</td>\n",
       "    </tr>\n",
       "    <tr>\n",
       "      <th>2</th>\n",
       "      <td>Arizona</td>\n",
       "      <td>0.364</td>\n",
       "      <td>0.317</td>\n",
       "      <td>0.409</td>\n",
       "    </tr>\n",
       "    <tr>\n",
       "      <th>3</th>\n",
       "      <td>Arkansas</td>\n",
       "      <td>0.380</td>\n",
       "      <td>0.344</td>\n",
       "      <td>0.413</td>\n",
       "    </tr>\n",
       "    <tr>\n",
       "      <th>4</th>\n",
       "      <td>California</td>\n",
       "      <td>0.374</td>\n",
       "      <td>0.323</td>\n",
       "      <td>0.425</td>\n",
       "    </tr>\n",
       "  </tbody>\n",
       "</table>\n",
       "</div>"
      ],
      "text/plain": [
       "     Location  All Adults   Male  Female\n",
       "0     Alabama       0.303  0.252   0.348\n",
       "1      Alaska       0.315  0.305   0.326\n",
       "2     Arizona       0.364  0.317   0.409\n",
       "3    Arkansas       0.380  0.344   0.413\n",
       "4  California       0.374  0.323   0.425"
      ]
     },
     "execution_count": 89,
     "metadata": {},
     "output_type": "execute_result"
    }
   ],
   "source": [
    "gender_2020 = pd.read_csv(\"./Data/Mental_health/Gender/US_depression_2020.csv\")\n",
    "gender_2020.head()"
   ]
  },
  {
   "cell_type": "code",
   "execution_count": 90,
   "id": "35354ee0-e49d-45c8-8448-265a29d4c4ba",
   "metadata": {},
   "outputs": [
    {
     "data": {
      "text/html": [
       "<div>\n",
       "<style scoped>\n",
       "    .dataframe tbody tr th:only-of-type {\n",
       "        vertical-align: middle;\n",
       "    }\n",
       "\n",
       "    .dataframe tbody tr th {\n",
       "        vertical-align: top;\n",
       "    }\n",
       "\n",
       "    .dataframe thead th {\n",
       "        text-align: right;\n",
       "    }\n",
       "</style>\n",
       "<table border=\"1\" class=\"dataframe\">\n",
       "  <thead>\n",
       "    <tr style=\"text-align: right;\">\n",
       "      <th></th>\n",
       "      <th>Test_Statistic</th>\n",
       "      <th>p-value</th>\n",
       "    </tr>\n",
       "  </thead>\n",
       "  <tbody>\n",
       "    <tr>\n",
       "      <th>0</th>\n",
       "      <td>-7.612955</td>\n",
       "      <td>2.678999e-14</td>\n",
       "    </tr>\n",
       "  </tbody>\n",
       "</table>\n",
       "</div>"
      ],
      "text/plain": [
       "   Test_Statistic       p-value\n",
       "0       -7.612955  2.678999e-14"
      ]
     },
     "execution_count": 90,
     "metadata": {},
     "output_type": "execute_result"
    }
   ],
   "source": [
    "wil = [stats.ranksums(gender_2020['Male'], gender_2020['Female'])]\n",
    "wil_values=pd.DataFrame(data=wil,columns=[\"Test_Statistic\",\"p-value\"])\n",
    "wil_values"
   ]
  },
  {
   "cell_type": "markdown",
   "id": "3893a1bf-1245-4456-baa0-0c87acb78afe",
   "metadata": {},
   "source": [
    "Significant difference - Females more depressed"
   ]
  },
  {
   "cell_type": "code",
   "execution_count": 91,
   "id": "e7e71f84-94e4-417a-b382-3d8448d38846",
   "metadata": {},
   "outputs": [
    {
     "data": {
      "text/html": [
       "<div>\n",
       "<style scoped>\n",
       "    .dataframe tbody tr th:only-of-type {\n",
       "        vertical-align: middle;\n",
       "    }\n",
       "\n",
       "    .dataframe tbody tr th {\n",
       "        vertical-align: top;\n",
       "    }\n",
       "\n",
       "    .dataframe thead th {\n",
       "        text-align: right;\n",
       "    }\n",
       "</style>\n",
       "<table border=\"1\" class=\"dataframe\">\n",
       "  <thead>\n",
       "    <tr style=\"text-align: right;\">\n",
       "      <th></th>\n",
       "      <th>Location</th>\n",
       "      <th>All Adults</th>\n",
       "      <th>Male</th>\n",
       "      <th>Female</th>\n",
       "    </tr>\n",
       "  </thead>\n",
       "  <tbody>\n",
       "    <tr>\n",
       "      <th>0</th>\n",
       "      <td>Alabama</td>\n",
       "      <td>0.401</td>\n",
       "      <td>0.352</td>\n",
       "      <td>0.445</td>\n",
       "    </tr>\n",
       "    <tr>\n",
       "      <th>1</th>\n",
       "      <td>Alaska</td>\n",
       "      <td>0.413</td>\n",
       "      <td>0.359</td>\n",
       "      <td>0.465</td>\n",
       "    </tr>\n",
       "    <tr>\n",
       "      <th>2</th>\n",
       "      <td>Arizona</td>\n",
       "      <td>0.417</td>\n",
       "      <td>0.398</td>\n",
       "      <td>0.435</td>\n",
       "    </tr>\n",
       "    <tr>\n",
       "      <th>3</th>\n",
       "      <td>Arkansas</td>\n",
       "      <td>0.434</td>\n",
       "      <td>0.399</td>\n",
       "      <td>0.468</td>\n",
       "    </tr>\n",
       "    <tr>\n",
       "      <th>4</th>\n",
       "      <td>California</td>\n",
       "      <td>0.421</td>\n",
       "      <td>0.399</td>\n",
       "      <td>0.443</td>\n",
       "    </tr>\n",
       "  </tbody>\n",
       "</table>\n",
       "</div>"
      ],
      "text/plain": [
       "     Location  All Adults   Male  Female\n",
       "0     Alabama       0.401  0.352   0.445\n",
       "1      Alaska       0.413  0.359   0.465\n",
       "2     Arizona       0.417  0.398   0.435\n",
       "3    Arkansas       0.434  0.399   0.468\n",
       "4  California       0.421  0.399   0.443"
      ]
     },
     "execution_count": 91,
     "metadata": {},
     "output_type": "execute_result"
    }
   ],
   "source": [
    "gender_2021 = pd.read_csv(\"./Data/Mental_health/Gender/US_depression_2021.csv\")\n",
    "gender_2021.head()"
   ]
  },
  {
   "cell_type": "code",
   "execution_count": 92,
   "id": "b8d585a6-e670-4040-80ab-3559d81c554b",
   "metadata": {},
   "outputs": [
    {
     "data": {
      "text/html": [
       "<div>\n",
       "<style scoped>\n",
       "    .dataframe tbody tr th:only-of-type {\n",
       "        vertical-align: middle;\n",
       "    }\n",
       "\n",
       "    .dataframe tbody tr th {\n",
       "        vertical-align: top;\n",
       "    }\n",
       "\n",
       "    .dataframe thead th {\n",
       "        text-align: right;\n",
       "    }\n",
       "</style>\n",
       "<table border=\"1\" class=\"dataframe\">\n",
       "  <thead>\n",
       "    <tr style=\"text-align: right;\">\n",
       "      <th></th>\n",
       "      <th>Test_Statistic</th>\n",
       "      <th>p-value</th>\n",
       "    </tr>\n",
       "  </thead>\n",
       "  <tbody>\n",
       "    <tr>\n",
       "      <th>0</th>\n",
       "      <td>-7.067499</td>\n",
       "      <td>1.577509e-12</td>\n",
       "    </tr>\n",
       "  </tbody>\n",
       "</table>\n",
       "</div>"
      ],
      "text/plain": [
       "   Test_Statistic       p-value\n",
       "0       -7.067499  1.577509e-12"
      ]
     },
     "execution_count": 92,
     "metadata": {},
     "output_type": "execute_result"
    }
   ],
   "source": [
    "wil = [stats.ranksums(gender_2021['Male'], gender_2021['Female'])]\n",
    "wil_values=pd.DataFrame(data=wil,columns=[\"Test_Statistic\",\"p-value\"])\n",
    "wil_values"
   ]
  },
  {
   "cell_type": "markdown",
   "id": "f12d1368-98e1-4d44-b6b2-d6cb56431e27",
   "metadata": {},
   "source": [
    "Significant difference - Females more depressed"
   ]
  },
  {
   "cell_type": "code",
   "execution_count": 93,
   "id": "b6887257-4d7b-4f81-80f1-1f5dd885cd49",
   "metadata": {},
   "outputs": [
    {
     "data": {
      "text/html": [
       "<div>\n",
       "<style scoped>\n",
       "    .dataframe tbody tr th:only-of-type {\n",
       "        vertical-align: middle;\n",
       "    }\n",
       "\n",
       "    .dataframe tbody tr th {\n",
       "        vertical-align: top;\n",
       "    }\n",
       "\n",
       "    .dataframe thead th {\n",
       "        text-align: right;\n",
       "    }\n",
       "</style>\n",
       "<table border=\"1\" class=\"dataframe\">\n",
       "  <thead>\n",
       "    <tr style=\"text-align: right;\">\n",
       "      <th></th>\n",
       "      <th>Test_Statistic</th>\n",
       "      <th>p-value</th>\n",
       "    </tr>\n",
       "  </thead>\n",
       "  <tbody>\n",
       "    <tr>\n",
       "      <th>0</th>\n",
       "      <td>-4.962642</td>\n",
       "      <td>6.954051e-07</td>\n",
       "    </tr>\n",
       "  </tbody>\n",
       "</table>\n",
       "</div>"
      ],
      "text/plain": [
       "   Test_Statistic       p-value\n",
       "0       -4.962642  6.954051e-07"
      ]
     },
     "execution_count": 93,
     "metadata": {},
     "output_type": "execute_result"
    }
   ],
   "source": [
    "wil = [stats.ranksums(gender_2020['Male'], gender_2021['Male'])]\n",
    "wil_values=pd.DataFrame(data=wil,columns=[\"Test_Statistic\",\"p-value\"])\n",
    "wil_values"
   ]
  },
  {
   "cell_type": "markdown",
   "id": "cd5476d8-32f3-4eb1-ace1-bb6e4bc9f155",
   "metadata": {},
   "source": [
    "Significant difference - Males more depressed in 2021"
   ]
  },
  {
   "cell_type": "code",
   "execution_count": 94,
   "id": "9c089d6a-dd0e-4fd3-b3f9-9e5d61a21ecf",
   "metadata": {},
   "outputs": [
    {
     "data": {
      "text/html": [
       "<div>\n",
       "<style scoped>\n",
       "    .dataframe tbody tr th:only-of-type {\n",
       "        vertical-align: middle;\n",
       "    }\n",
       "\n",
       "    .dataframe tbody tr th {\n",
       "        vertical-align: top;\n",
       "    }\n",
       "\n",
       "    .dataframe thead th {\n",
       "        text-align: right;\n",
       "    }\n",
       "</style>\n",
       "<table border=\"1\" class=\"dataframe\">\n",
       "  <thead>\n",
       "    <tr style=\"text-align: right;\">\n",
       "      <th></th>\n",
       "      <th>Test_Statistic</th>\n",
       "      <th>p-value</th>\n",
       "    </tr>\n",
       "  </thead>\n",
       "  <tbody>\n",
       "    <tr>\n",
       "      <th>0</th>\n",
       "      <td>-3.466822</td>\n",
       "      <td>0.000527</td>\n",
       "    </tr>\n",
       "  </tbody>\n",
       "</table>\n",
       "</div>"
      ],
      "text/plain": [
       "   Test_Statistic   p-value\n",
       "0       -3.466822  0.000527"
      ]
     },
     "execution_count": 94,
     "metadata": {},
     "output_type": "execute_result"
    }
   ],
   "source": [
    "wil = [stats.ranksums(gender_2020['Female'], gender_2021['Female'])]\n",
    "wil_values=pd.DataFrame(data=wil,columns=[\"Test_Statistic\",\"p-value\"])\n",
    "wil_values"
   ]
  },
  {
   "cell_type": "markdown",
   "id": "82d064c9-dfa4-4c53-99fc-ec41984cfb37",
   "metadata": {},
   "source": [
    "Significant difference - Females more depressed in 2021"
   ]
  }
 ],
 "metadata": {
  "kernelspec": {
   "display_name": "Python 3 (ipykernel)",
   "language": "python",
   "name": "python3"
  },
  "language_info": {
   "codemirror_mode": {
    "name": "ipython",
    "version": 3
   },
   "file_extension": ".py",
   "mimetype": "text/x-python",
   "name": "python",
   "nbconvert_exporter": "python",
   "pygments_lexer": "ipython3",
   "version": "3.9.12"
  }
 },
 "nbformat": 4,
 "nbformat_minor": 5
}
